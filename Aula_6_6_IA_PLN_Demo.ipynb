{
  "nbformat": 4,
  "nbformat_minor": 0,
  "metadata": {
    "colab": {
      "name": "Aula 6-6 IA PLN - Demo.ipynb",
      "provenance": [],
      "collapsed_sections": [],
      "include_colab_link": true
    },
    "kernelspec": {
      "name": "python3",
      "display_name": "Python 3"
    }
  },
  "cells": [
    {
      "cell_type": "markdown",
      "metadata": {
        "id": "view-in-github",
        "colab_type": "text"
      },
      "source": [
        "<a href=\"https://colab.research.google.com/github/g-roger/natural-language-process/blob/main/Aula_6_6_IA_PLN_Demo.ipynb\" target=\"_parent\"><img src=\"https://colab.research.google.com/assets/colab-badge.svg\" alt=\"Open In Colab\"/></a>"
      ]
    },
    {
      "cell_type": "markdown",
      "metadata": {
        "id": "34z9XYces1jO"
      },
      "source": [
        "# **Análise de Tópicos**\n",
        "\n",
        "<font size=5>\n",
        "Análise, ou Modelagem, de Tópicos nos permite analisar grandes volumes de texto atravéz de técnicas de clusterização ou agrupamento dos documentos em tópicos!\n",
        "<br/>\n",
        "<br/>\n",
        "Grande parte dos dados disponíveis no mundo real não estão classificados e por isso não podemos aplicar as técnicas de aprendizado supervisionado que usamos anteriormente!\n",
        "<br/>\n",
        "<br/>\n",
        "\n",
        "Nestes casos, onde trabalhamos com dados não classificados, podemos tentar encontrar suas classificações agrupando-os em tópicos.\n",
        "\n",
        "  </font>\n",
        "\n",
        "\n"
      ]
    },
    {
      "cell_type": "markdown",
      "metadata": {
        "id": "4rTS1KWBzOnb"
      },
      "source": [
        "# Importante!\n",
        "\n",
        "<font size=5>\n",
        "Por não termos junto aos dados sua verdadeira classificação, nesses casos não sabemos a \"resposta correta\" o que torna muito difícil mensurar o quanto nosso algoritmo está acertando ou errando!\n",
        "<br/>\n",
        "<br/>\n",
        "\n",
        "Tudo que sabemos (ou assumimos) é que documentos que forem agrupados no mesmo tópico compartilham ideias similares.\n",
        "<br/>\n",
        "<br/>\n",
        "\n",
        "Fica a cargo do usuário (cientista/analista de dados, eng. machine learning e etc) se os grupos formados são coerentes e o que cada grupo representa!\n",
        "</font>"
      ]
    },
    {
      "cell_type": "markdown",
      "metadata": {
        "id": "uqXDhRZy3j67"
      },
      "source": [
        "# LDA - Latent Dirichlet Allocation\n",
        "\n",
        "<font size=5>\n",
        "LDA ou Latent Dirichlet Allocation é um “modelo probabilístico generativo” de uma coleção composta de partes. Em termos de modelagem de tópicos, as coleções são documentos e as partes são palavras, ou frases (n-gramas).  \n",
        "<br/>\n",
        "<br/>\n",
        "O LDA tem esse nome pois usa a Distribuição Dirichlet (do matemático alemão Johann Peter Gustav Lejeune Dirichlet) para encontrar tópicos \"latentes\" nos documentos.\n",
        "<br/>\n",
        "<br/>\n",
        "Em 2003, esse método foi publicado pela primeira vez por David Blei, Andrew Ng e Michael Jordan e pode ser\n",
        "<a href=\"http://www.jmlr.org/papers/volume3/blei03a/blei03a.pdf\">lido aqui</a>\n",
        "<br/>\n",
        "<br/>\n",
        "\n",
        "Para entender melhor como o método funciona recomendo a leitura do artigo original no link acima!\n",
        "  \n",
        "</font>\n",
        "\n"
      ]
    },
    {
      "cell_type": "markdown",
      "metadata": {
        "id": "f6DQ3n_wEpJQ"
      },
      "source": [
        "# LDA\n",
        "\n",
        "<font size=5>\n",
        "Existem algumas premissas na aplicação do LDA:\n",
        "<br/>\n",
        "<br/>\n",
        "\n",
        "1.   Documentos com assuntos similares usam palavras similares<br/>\n",
        "2.   Os tópicos latentes podem ser encontrados atravez dos grupos de palavras que ocorrem juntas<br/>\n",
        "3.   Documentos são distribuições de probabilidade sobre os tópicos latentes<br/>\n",
        "4.   Tópicos são também distribuições de probabilidade sobre as palavras<br/>\n",
        "\n",
        "</font>"
      ]
    },
    {
      "cell_type": "markdown",
      "metadata": {
        "id": "K_R0DbqBIRbN"
      },
      "source": [
        "# Documentos são distribuições de probabilidade sobre os tópicos latentes\n",
        "\n",
        "![alt text](https://i.ibb.co/C2gs3mS/doc-prob-topics.png)"
      ]
    },
    {
      "cell_type": "markdown",
      "metadata": {
        "id": "hYBiONd5NFTC"
      },
      "source": [
        "# Tópicos são também distribuições de probabilidade sobre as palavras\n",
        "\n",
        "![alt text](https://i.ibb.co/KskDmbD/topic-prob-words.png)"
      ]
    },
    {
      "cell_type": "code",
      "metadata": {
        "id": "tvdE2BaSs1QN",
        "colab": {
          "base_uri": "https://localhost:8080/",
          "height": 192
        },
        "outputId": "53ab6f2b-e252-4f43-9097-640ea9382901"
      },
      "source": [
        "import pandas as pd\n",
        "\n",
        "df = pd.read_csv(\"https://dados-ml-pln.s3-sa-east-1.amazonaws.com/produtos.csv\", delimiter=\";\", encoding='utf-8')\n",
        "\n",
        "df.describe()"
      ],
      "execution_count": null,
      "outputs": [
        {
          "output_type": "execute_result",
          "data": {
            "text/html": [
              "<div>\n",
              "<style scoped>\n",
              "    .dataframe tbody tr th:only-of-type {\n",
              "        vertical-align: middle;\n",
              "    }\n",
              "\n",
              "    .dataframe tbody tr th {\n",
              "        vertical-align: top;\n",
              "    }\n",
              "\n",
              "    .dataframe thead th {\n",
              "        text-align: right;\n",
              "    }\n",
              "</style>\n",
              "<table border=\"1\" class=\"dataframe\">\n",
              "  <thead>\n",
              "    <tr style=\"text-align: right;\">\n",
              "      <th></th>\n",
              "      <th>nome</th>\n",
              "      <th>descricao</th>\n",
              "      <th>categoria</th>\n",
              "    </tr>\n",
              "  </thead>\n",
              "  <tbody>\n",
              "    <tr>\n",
              "      <th>count</th>\n",
              "      <td>4080</td>\n",
              "      <td>2916</td>\n",
              "      <td>4080</td>\n",
              "    </tr>\n",
              "    <tr>\n",
              "      <th>unique</th>\n",
              "      <td>3696</td>\n",
              "      <td>2460</td>\n",
              "      <td>4</td>\n",
              "    </tr>\n",
              "    <tr>\n",
              "      <th>top</th>\n",
              "      <td>Bonecos Brinquedo Vingadores 30 Cm Com Luz E...</td>\n",
              "      <td>JOGO ORIGINAL. NOVO. LACRADO. PRONTA ENTREGA. ...</td>\n",
              "      <td>maquiagem</td>\n",
              "    </tr>\n",
              "    <tr>\n",
              "      <th>freq</th>\n",
              "      <td>20</td>\n",
              "      <td>39</td>\n",
              "      <td>1020</td>\n",
              "    </tr>\n",
              "  </tbody>\n",
              "</table>\n",
              "</div>"
            ],
            "text/plain": [
              "                                                     nome  ...  categoria\n",
              "count                                                4080  ...       4080\n",
              "unique                                               3696  ...          4\n",
              "top       Bonecos Brinquedo Vingadores 30 Cm Com Luz E...  ...  maquiagem\n",
              "freq                                                   20  ...       1020\n",
              "\n",
              "[4 rows x 3 columns]"
            ]
          },
          "metadata": {},
          "execution_count": 2
        }
      ]
    },
    {
      "cell_type": "code",
      "metadata": {
        "id": "R3x3Ipzhqgka"
      },
      "source": [
        "df.dropna(inplace=True)\n",
        "\n",
        "df[\"texto\"] = df['nome'] + \" \" + df['descricao']"
      ],
      "execution_count": null,
      "outputs": []
    },
    {
      "cell_type": "code",
      "metadata": {
        "id": "6nAwdR7YyQ_8",
        "colab": {
          "base_uri": "https://localhost:8080/",
          "height": 192
        },
        "outputId": "2896499b-b4ed-4764-fc44-ccf476f59cdd"
      },
      "source": [
        "df.describe()"
      ],
      "execution_count": null,
      "outputs": [
        {
          "output_type": "execute_result",
          "data": {
            "text/html": [
              "<div>\n",
              "<style scoped>\n",
              "    .dataframe tbody tr th:only-of-type {\n",
              "        vertical-align: middle;\n",
              "    }\n",
              "\n",
              "    .dataframe tbody tr th {\n",
              "        vertical-align: top;\n",
              "    }\n",
              "\n",
              "    .dataframe thead th {\n",
              "        text-align: right;\n",
              "    }\n",
              "</style>\n",
              "<table border=\"1\" class=\"dataframe\">\n",
              "  <thead>\n",
              "    <tr style=\"text-align: right;\">\n",
              "      <th></th>\n",
              "      <th>nome</th>\n",
              "      <th>descricao</th>\n",
              "      <th>categoria</th>\n",
              "      <th>texto</th>\n",
              "    </tr>\n",
              "  </thead>\n",
              "  <tbody>\n",
              "    <tr>\n",
              "      <th>count</th>\n",
              "      <td>2916</td>\n",
              "      <td>2916</td>\n",
              "      <td>2916</td>\n",
              "      <td>2916</td>\n",
              "    </tr>\n",
              "    <tr>\n",
              "      <th>unique</th>\n",
              "      <td>2584</td>\n",
              "      <td>2460</td>\n",
              "      <td>4</td>\n",
              "      <td>2646</td>\n",
              "    </tr>\n",
              "    <tr>\n",
              "      <th>top</th>\n",
              "      <td>Mais Escuro - Cinquenta Tons Mais Escuros Pel...</td>\n",
              "      <td>JOGO ORIGINAL. NOVO. LACRADO. PRONTA ENTREGA. ...</td>\n",
              "      <td>livro</td>\n",
              "      <td>Bonecos Brinquedo Vingadores 30 Cm Com Luz E...</td>\n",
              "    </tr>\n",
              "    <tr>\n",
              "      <th>freq</th>\n",
              "      <td>20</td>\n",
              "      <td>39</td>\n",
              "      <td>838</td>\n",
              "      <td>20</td>\n",
              "    </tr>\n",
              "  </tbody>\n",
              "</table>\n",
              "</div>"
            ],
            "text/plain": [
              "                                                     nome  ...                                              texto\n",
              "count                                                2916  ...                                               2916\n",
              "unique                                               2584  ...                                               2646\n",
              "top      Mais Escuro - Cinquenta Tons Mais Escuros Pel...  ...    Bonecos Brinquedo Vingadores 30 Cm Com Luz E...\n",
              "freq                                                   20  ...                                                 20\n",
              "\n",
              "[4 rows x 4 columns]"
            ]
          },
          "metadata": {},
          "execution_count": 4
        }
      ]
    },
    {
      "cell_type": "code",
      "metadata": {
        "id": "SbPvhCki8PHa",
        "colab": {
          "base_uri": "https://localhost:8080/"
        },
        "outputId": "a49fc929-adde-45c3-eb7e-f748bc6c5542"
      },
      "source": [
        "df.categoria.value_counts()"
      ],
      "execution_count": null,
      "outputs": [
        {
          "output_type": "execute_result",
          "data": {
            "text/plain": [
              "livro        838\n",
              "maquiagem    788\n",
              "brinquedo    668\n",
              "game         622\n",
              "Name: categoria, dtype: int64"
            ]
          },
          "metadata": {},
          "execution_count": 5
        }
      ]
    },
    {
      "cell_type": "code",
      "metadata": {
        "id": "nf5Gh7Vw77dM",
        "colab": {
          "base_uri": "https://localhost:8080/"
        },
        "outputId": "48b68f0e-be16-41a5-81a1-145a757c94ad"
      },
      "source": [
        "import nltk\n",
        "nltk.download('stopwords')"
      ],
      "execution_count": null,
      "outputs": [
        {
          "output_type": "stream",
          "name": "stdout",
          "text": [
            "[nltk_data] Downloading package stopwords to /root/nltk_data...\n",
            "[nltk_data]   Unzipping corpora/stopwords.zip.\n"
          ]
        },
        {
          "output_type": "execute_result",
          "data": {
            "text/plain": [
              "True"
            ]
          },
          "metadata": {},
          "execution_count": 6
        }
      ]
    },
    {
      "cell_type": "code",
      "metadata": {
        "id": "QnJwzeDn8C8q"
      },
      "source": [
        "from sklearn.feature_extraction.text import CountVectorizer, TfidfVectorizer\n",
        "\n",
        "stops = nltk.corpus.stopwords.words('portuguese')\n",
        "\n",
        "vect = TfidfVectorizer(ngram_range=(1,1), stop_words=stops)\n",
        "vect.fit(df.texto)\n",
        "text_vect = vect.transform(df.texto)\n",
        "\n",
        "#vect = CountVectorizer(ngram_range=(2,2), stop_words=stops)\n",
        "#vect.fit(df.texto)\n",
        "#text_vect = vect.transform(df.texto)"
      ],
      "execution_count": 8,
      "outputs": []
    },
    {
      "cell_type": "code",
      "metadata": {
        "id": "7mQrlNG4SvrA",
        "colab": {
          "base_uri": "https://localhost:8080/"
        },
        "outputId": "299f11b2-984c-4bf8-8cba-378a9d941cc0"
      },
      "source": [
        "text_vect.shape"
      ],
      "execution_count": 9,
      "outputs": [
        {
          "output_type": "execute_result",
          "data": {
            "text/plain": [
              "(2916, 35310)"
            ]
          },
          "metadata": {},
          "execution_count": 9
        }
      ]
    },
    {
      "cell_type": "code",
      "metadata": {
        "id": "zGNZhWO9CJO9"
      },
      "source": [
        "from sklearn.model_selection import train_test_split\n",
        "\n",
        "df_train, df_test = train_test_split(df,\n",
        "      test_size = 0.2, \n",
        "      random_state = 42\n",
        "  )"
      ],
      "execution_count": 10,
      "outputs": []
    },
    {
      "cell_type": "code",
      "metadata": {
        "id": "eA0MKdGnCafk"
      },
      "source": [
        "X_train, X_test, y_train, y_test = train_test_split(\n",
        "      text_vect,\n",
        "      df[\"categoria\"],\n",
        "      test_size = 0.2, \n",
        "      random_state = 42\n",
        "  )"
      ],
      "execution_count": 11,
      "outputs": []
    },
    {
      "cell_type": "code",
      "metadata": {
        "id": "dpLWRt8o7mBQ",
        "colab": {
          "base_uri": "https://localhost:8080/"
        },
        "outputId": "1598764a-f7dc-4c2d-b7fe-8c4048067335"
      },
      "source": [
        "from sklearn.decomposition import LatentDirichletAllocation\n",
        "\n",
        "LDA = LatentDirichletAllocation(n_components=4,random_state=42)\n",
        "LDA.fit(X_train)"
      ],
      "execution_count": null,
      "outputs": [
        {
          "output_type": "execute_result",
          "data": {
            "text/plain": [
              "LatentDirichletAllocation(batch_size=128, doc_topic_prior=None,\n",
              "                          evaluate_every=-1, learning_decay=0.7,\n",
              "                          learning_method='batch', learning_offset=10.0,\n",
              "                          max_doc_update_iter=100, max_iter=10,\n",
              "                          mean_change_tol=0.001, n_components=4, n_jobs=None,\n",
              "                          perp_tol=0.1, random_state=42, topic_word_prior=None,\n",
              "                          total_samples=1000000.0, verbose=0)"
            ]
          },
          "metadata": {},
          "execution_count": 10
        }
      ]
    },
    {
      "cell_type": "code",
      "metadata": {
        "id": "VYc96bpc8Fc8",
        "colab": {
          "base_uri": "https://localhost:8080/"
        },
        "outputId": "428e3c49-7f13-4269-9a39-31f9e2e2b184"
      },
      "source": [
        "#LDA.score(X_test) // 1000\n",
        "#LDA.score(X_test, y_test) // 1000"
      ],
      "execution_count": null,
      "outputs": [
        {
          "output_type": "execute_result",
          "data": {
            "text/plain": [
              "-60564.56904778924"
            ]
          },
          "metadata": {},
          "execution_count": 12
        }
      ]
    },
    {
      "cell_type": "code",
      "metadata": {
        "id": "3JfRxK7iPJxh",
        "colab": {
          "base_uri": "https://localhost:8080/"
        },
        "outputId": "404eee4b-d5fe-4816-845e-87655d54dc4a"
      },
      "source": [
        "#LDA.get_params()"
      ],
      "execution_count": null,
      "outputs": [
        {
          "output_type": "execute_result",
          "data": {
            "text/plain": [
              "{'batch_size': 128,\n",
              " 'doc_topic_prior': None,\n",
              " 'evaluate_every': -1,\n",
              " 'learning_decay': 0.7,\n",
              " 'learning_method': 'batch',\n",
              " 'learning_offset': 10.0,\n",
              " 'max_doc_update_iter': 100,\n",
              " 'max_iter': 10,\n",
              " 'mean_change_tol': 0.001,\n",
              " 'n_components': 4,\n",
              " 'n_jobs': None,\n",
              " 'perp_tol': 0.1,\n",
              " 'random_state': 42,\n",
              " 'topic_word_prior': None,\n",
              " 'total_samples': 1000000.0,\n",
              " 'verbose': 0}"
            ]
          },
          "metadata": {},
          "execution_count": 13
        }
      ]
    },
    {
      "cell_type": "code",
      "metadata": {
        "id": "Dp_pwAgEPJvE",
        "colab": {
          "base_uri": "https://localhost:8080/"
        },
        "outputId": "a2cf6e15-4f56-4efd-c012-820b70952191"
      },
      "source": [
        "LDA.components_.shape"
      ],
      "execution_count": null,
      "outputs": [
        {
          "output_type": "execute_result",
          "data": {
            "text/plain": [
              "(4, 35310)"
            ]
          },
          "metadata": {},
          "execution_count": 31
        }
      ]
    },
    {
      "cell_type": "code",
      "metadata": {
        "id": "-cqZA64xYI73",
        "colab": {
          "base_uri": "https://localhost:8080/"
        },
        "outputId": "6da6fb25-3401-4b5f-81e3-5104392a5d65"
      },
      "source": [
        "LDA.components_[0]"
      ],
      "execution_count": null,
      "outputs": [
        {
          "output_type": "execute_result",
          "data": {
            "text/plain": [
              "array([1.9391718 , 0.75413679, 0.25005237, ..., 0.25      , 2.49118429,\n",
              "       0.28116198])"
            ]
          },
          "metadata": {},
          "execution_count": 33
        }
      ]
    },
    {
      "cell_type": "code",
      "metadata": {
        "id": "vxorgcIaPJsk",
        "colab": {
          "base_uri": "https://localhost:8080/"
        },
        "outputId": "a8e90644-f9b6-4b22-fe39-390f6085236e"
      },
      "source": [
        "LDA.components_[0].argsort()"
      ],
      "execution_count": null,
      "outputs": [
        {
          "output_type": "execute_result",
          "data": {
            "text/plain": [
              "array([20239, 16668, 23147, ..., 22374, 20688, 26374])"
            ]
          },
          "metadata": {},
          "execution_count": 34
        }
      ]
    },
    {
      "cell_type": "code",
      "metadata": {
        "id": "6Ld3AR4087Jg",
        "colab": {
          "base_uri": "https://localhost:8080/"
        },
        "outputId": "bf040cbb-b401-4539-c916-67ddde3748f0"
      },
      "source": [
        "LDA.components_[0].argsort()[0]"
      ],
      "execution_count": null,
      "outputs": [
        {
          "output_type": "execute_result",
          "data": {
            "text/plain": [
              "20239"
            ]
          },
          "metadata": {},
          "execution_count": 35
        }
      ]
    },
    {
      "cell_type": "code",
      "metadata": {
        "id": "bJqwr1VP87Hh",
        "colab": {
          "base_uri": "https://localhost:8080/",
          "height": 35
        },
        "outputId": "777a8b3b-f00f-42d9-9c07-f62da45e33cf"
      },
      "source": [
        "vect.get_feature_names()[20239] #16668"
      ],
      "execution_count": null,
      "outputs": [
        {
          "output_type": "execute_result",
          "data": {
            "application/vnd.google.colaboratory.intrinsic+json": {
              "type": "string"
            },
            "text/plain": [
              "'jet2'"
            ]
          },
          "metadata": {},
          "execution_count": 18
        }
      ]
    },
    {
      "cell_type": "code",
      "metadata": {
        "id": "jffMT1_-9Ma2"
      },
      "source": [
        "for index,topic in enumerate(LDA.components_):\n",
        "    print(f'THE TOP 15 WORDS FOR TOPIC #{index}')\n",
        "    print([vect.get_feature_names()[i] for i in topic.argsort()[-15:]])\n",
        "    print('\\n')"
      ],
      "execution_count": null,
      "outputs": []
    },
    {
      "cell_type": "code",
      "metadata": {
        "id": "al21GnKXSv-Z"
      },
      "source": [
        "'''\n",
        "0 - maquiagem\n",
        "1 - games\n",
        "2 - livros\n",
        "3 - brinquedos\n",
        "'''"
      ],
      "execution_count": null,
      "outputs": []
    },
    {
      "cell_type": "code",
      "metadata": {
        "id": "UVngssMKAoGg",
        "colab": {
          "base_uri": "https://localhost:8080/"
        },
        "outputId": "49762e5f-3fa4-4c84-9cee-bbb24508a65f"
      },
      "source": [
        "print(text_vect.shape)\n",
        "print(X_train.shape)\n",
        "print(X_test.shape)\n",
        "\n",
        "print(X_train.shape[0]+X_test.shape[0])"
      ],
      "execution_count": null,
      "outputs": [
        {
          "output_type": "stream",
          "name": "stdout",
          "text": [
            "(2916, 35310)\n",
            "(2332, 35310)\n",
            "(584, 35310)\n",
            "2916\n"
          ]
        }
      ]
    },
    {
      "cell_type": "code",
      "metadata": {
        "id": "4uOHH-ln9MYl",
        "colab": {
          "base_uri": "https://localhost:8080/"
        },
        "outputId": "e0732fa7-412b-4190-aa1f-d71cf7dd5ebc"
      },
      "source": [
        "results = LDA.transform(X_test)\n",
        "\n",
        "results.shape"
      ],
      "execution_count": null,
      "outputs": [
        {
          "output_type": "execute_result",
          "data": {
            "text/plain": [
              "(584, 4)"
            ]
          },
          "metadata": {},
          "execution_count": 21
        }
      ]
    },
    {
      "cell_type": "code",
      "metadata": {
        "id": "0UuI6P6G9151",
        "colab": {
          "base_uri": "https://localhost:8080/"
        },
        "outputId": "238bc84a-97fe-4fd1-e7be-86e399604934"
      },
      "source": [
        "results[0]"
      ],
      "execution_count": null,
      "outputs": [
        {
          "output_type": "execute_result",
          "data": {
            "text/plain": [
              "array([0.06250539, 0.04448484, 0.04438344, 0.84862633])"
            ]
          },
          "metadata": {},
          "execution_count": 60
        }
      ]
    },
    {
      "cell_type": "code",
      "metadata": {
        "id": "1fCoke2V913x",
        "colab": {
          "base_uri": "https://localhost:8080/"
        },
        "outputId": "db7bc9dd-c3dd-458e-bdfc-26b87bf18e07"
      },
      "source": [
        "results.argmax(axis=1)"
      ],
      "execution_count": null,
      "outputs": [
        {
          "output_type": "execute_result",
          "data": {
            "text/plain": [
              "array([3, 0, 0, 3, 3, 2, 3, 0, 0, 3, 1, 2, 3, 3, 3, 3, 3, 2, 0, 3, 0, 3,\n",
              "       0, 3, 3, 3, 0, 2, 3, 3, 3, 0, 0, 3, 3, 2, 0, 0, 3, 2, 3, 0, 3, 3,\n",
              "       1, 3, 3, 0, 0, 0, 3, 0, 0, 3, 3, 3, 0, 0, 3, 3, 3, 1, 3, 0, 0, 0,\n",
              "       3, 1, 0, 0, 3, 0, 0, 2, 2, 0, 0, 0, 3, 3, 3, 0, 2, 3, 3, 3, 3, 2,\n",
              "       0, 0, 3, 2, 1, 2, 1, 1, 3, 2, 3, 2, 2, 3, 0, 3, 3, 0, 3, 3, 3, 0,\n",
              "       3, 3, 3, 0, 3, 3, 3, 3, 3, 2, 3, 0, 1, 2, 0, 3, 3, 3, 0, 0, 3, 3,\n",
              "       0, 3, 3, 0, 0, 3, 3, 0, 3, 3, 3, 3, 2, 3, 2, 3, 0, 0, 0, 2, 3, 3,\n",
              "       3, 2, 0, 3, 2, 3, 0, 3, 0, 3, 3, 1, 0, 3, 3, 0, 3, 0, 0, 0, 3, 3,\n",
              "       3, 3, 3, 1, 0, 3, 2, 0, 2, 1, 1, 3, 1, 2, 3, 3, 1, 0, 3, 0, 0, 2,\n",
              "       3, 0, 0, 0, 0, 0, 3, 3, 0, 3, 3, 3, 3, 2, 0, 0, 0, 3, 3, 0, 3, 0,\n",
              "       3, 3, 3, 0, 3, 1, 2, 3, 3, 3, 0, 0, 0, 0, 0, 2, 3, 3, 3, 0, 0, 2,\n",
              "       3, 0, 0, 0, 3, 3, 0, 2, 3, 0, 0, 0, 3, 2, 3, 2, 0, 2, 1, 0, 3, 2,\n",
              "       3, 0, 1, 0, 2, 0, 0, 3, 2, 3, 3, 2, 3, 0, 3, 3, 3, 0, 0, 0, 0, 2,\n",
              "       3, 0, 0, 0, 2, 3, 3, 3, 3, 2, 2, 0, 0, 3, 3, 3, 0, 2, 0, 0, 3, 0,\n",
              "       0, 3, 1, 0, 3, 0, 3, 1, 0, 0, 0, 3, 3, 3, 0, 0, 0, 0, 3, 3, 3, 3,\n",
              "       3, 2, 2, 0, 0, 3, 2, 3, 3, 0, 0, 0, 3, 1, 2, 2, 0, 3, 3, 0, 2, 0,\n",
              "       0, 2, 3, 2, 0, 3, 3, 0, 0, 3, 0, 0, 0, 2, 0, 0, 0, 3, 3, 0, 0, 0,\n",
              "       3, 0, 3, 0, 0, 0, 0, 3, 3, 3, 0, 0, 1, 0, 0, 0, 0, 1, 1, 3, 0, 0,\n",
              "       2, 0, 3, 2, 3, 3, 1, 3, 3, 3, 0, 0, 3, 0, 3, 1, 3, 3, 2, 3, 3, 1,\n",
              "       0, 2, 3, 0, 2, 2, 2, 3, 3, 0, 3, 3, 0, 1, 3, 3, 3, 2, 3, 3, 0, 0,\n",
              "       2, 0, 2, 1, 2, 0, 3, 3, 3, 2, 0, 0, 3, 3, 3, 3, 0, 3, 0, 3, 1, 3,\n",
              "       3, 0, 3, 0, 0, 3, 2, 2, 3, 3, 2, 0, 3, 2, 0, 2, 0, 3, 0, 0, 3, 0,\n",
              "       3, 0, 3, 3, 0, 0, 0, 2, 3, 3, 1, 1, 3, 0, 2, 3, 3, 3, 0, 2, 3, 3,\n",
              "       0, 3, 3, 0, 3, 0, 3, 3, 0, 3, 0, 2, 2, 3, 1, 3, 3, 3, 0, 0, 0, 0,\n",
              "       3, 0, 0, 3, 3, 3, 0, 0, 0, 3, 3, 3, 3, 0, 0, 2, 2, 3, 3, 0, 2, 0,\n",
              "       2, 0, 2, 0, 0, 3, 3, 3, 0, 0, 3, 1, 3, 0, 3, 0, 0, 3, 3, 0, 3, 0,\n",
              "       0, 3, 3, 1, 0, 0, 3, 3, 3, 0, 0, 2])"
            ]
          },
          "metadata": {},
          "execution_count": 61
        }
      ]
    },
    {
      "cell_type": "code",
      "metadata": {
        "id": "dNQNDgK4BWoe",
        "colab": {
          "base_uri": "https://localhost:8080/",
          "height": 315
        },
        "outputId": "3c8592e1-8fe8-4df9-f9c1-7c9a7289f7ae"
      },
      "source": [
        "df_test['topico'] = results.argmax(axis=1)\n",
        "\n",
        "df_test.head()"
      ],
      "execution_count": null,
      "outputs": [
        {
          "output_type": "stream",
          "name": "stderr",
          "text": [
            "/usr/local/lib/python3.7/dist-packages/ipykernel_launcher.py:1: SettingWithCopyWarning: \n",
            "A value is trying to be set on a copy of a slice from a DataFrame.\n",
            "Try using .loc[row_indexer,col_indexer] = value instead\n",
            "\n",
            "See the caveats in the documentation: https://pandas.pydata.org/pandas-docs/stable/user_guide/indexing.html#returning-a-view-versus-a-copy\n",
            "  \"\"\"Entry point for launching an IPython kernel.\n"
          ]
        },
        {
          "output_type": "execute_result",
          "data": {
            "text/html": [
              "<div>\n",
              "<style scoped>\n",
              "    .dataframe tbody tr th:only-of-type {\n",
              "        vertical-align: middle;\n",
              "    }\n",
              "\n",
              "    .dataframe tbody tr th {\n",
              "        vertical-align: top;\n",
              "    }\n",
              "\n",
              "    .dataframe thead th {\n",
              "        text-align: right;\n",
              "    }\n",
              "</style>\n",
              "<table border=\"1\" class=\"dataframe\">\n",
              "  <thead>\n",
              "    <tr style=\"text-align: right;\">\n",
              "      <th></th>\n",
              "      <th>nome</th>\n",
              "      <th>descricao</th>\n",
              "      <th>categoria</th>\n",
              "      <th>texto</th>\n",
              "      <th>topico</th>\n",
              "    </tr>\n",
              "  </thead>\n",
              "  <tbody>\n",
              "    <tr>\n",
              "      <th>2700</th>\n",
              "      <td>Estojo Duo Iluminador E Bronzer Belle Angel M...</td>\n",
              "      <td>DUO ILUMINADOR E BRONZER BELLE ANGEL - B025O D...</td>\n",
              "      <td>maquiagem</td>\n",
              "      <td>Estojo Duo Iluminador E Bronzer Belle Angel M...</td>\n",
              "      <td>3</td>\n",
              "    </tr>\n",
              "    <tr>\n",
              "      <th>1297</th>\n",
              "      <td>Patrulha Canina Carrinhos De Fricção 6 Person...</td>\n",
              "      <td>Kit carrinhos da Patrulha canina Tamanho: Cerc...</td>\n",
              "      <td>brinquedo</td>\n",
              "      <td>Patrulha Canina Carrinhos De Fricção 6 Person...</td>\n",
              "      <td>0</td>\n",
              "    </tr>\n",
              "    <tr>\n",
              "      <th>3162</th>\n",
              "      <td>Pokemon Ultra Moon Nintendo 3ds Midia Fisica ...</td>\n",
              "      <td>#Nossos produtos são NOVOS e 100% ORIGINAIS#  ...</td>\n",
              "      <td>game</td>\n",
              "      <td>Pokemon Ultra Moon Nintendo 3ds Midia Fisica ...</td>\n",
              "      <td>0</td>\n",
              "    </tr>\n",
              "    <tr>\n",
              "      <th>2895</th>\n",
              "      <td>Kite Pincel  12 Unidade</td>\n",
              "      <td>esta alta qualidade Punho de madeira Escova Co...</td>\n",
              "      <td>maquiagem</td>\n",
              "      <td>Kite Pincel  12 Unidade  esta alta qualidade ...</td>\n",
              "      <td>3</td>\n",
              "    </tr>\n",
              "    <tr>\n",
              "      <th>2226</th>\n",
              "      <td>Maleta Grande P/ Maquiagem Profissional Rodin...</td>\n",
              "      <td>FOTOS REAIS DO PRODUTO - ENVIAMOS SUA MALETA C...</td>\n",
              "      <td>maquiagem</td>\n",
              "      <td>Maleta Grande P/ Maquiagem Profissional Rodin...</td>\n",
              "      <td>3</td>\n",
              "    </tr>\n",
              "  </tbody>\n",
              "</table>\n",
              "</div>"
            ],
            "text/plain": [
              "                                                   nome  ... topico\n",
              "2700   Estojo Duo Iluminador E Bronzer Belle Angel M...  ...      3\n",
              "1297   Patrulha Canina Carrinhos De Fricção 6 Person...  ...      0\n",
              "3162   Pokemon Ultra Moon Nintendo 3ds Midia Fisica ...  ...      0\n",
              "2895                           Kite Pincel  12 Unidade   ...      3\n",
              "2226   Maleta Grande P/ Maquiagem Profissional Rodin...  ...      3\n",
              "\n",
              "[5 rows x 5 columns]"
            ]
          },
          "metadata": {},
          "execution_count": 62
        }
      ]
    },
    {
      "cell_type": "code",
      "metadata": {
        "id": "qUj5Vik_BWl2",
        "colab": {
          "base_uri": "https://localhost:8080/",
          "height": 145
        },
        "outputId": "6091585b-9204-47c5-aa78-eac636a6afc9"
      },
      "source": [
        "import numpy as np\n",
        "\n",
        "df_test['categ_cod'] = df_test.categoria.map(\n",
        "    {'maquiagem': 0, 'game': 1, 'livro': 2, 'brinquedo':3}    \n",
        "    )\n",
        "\n",
        "#df_test['categ_cod'] = df_test.categ_cod.astype(np.int64)\n",
        "\n",
        "df_test.head()\n",
        "\n",
        "'''\n",
        "0 - maquiagem\n",
        "1 - games\n",
        "2 - livros\n",
        "3 - brinquedos\n",
        "'''"
      ],
      "execution_count": null,
      "outputs": [
        {
          "output_type": "stream",
          "name": "stderr",
          "text": [
            "/usr/local/lib/python3.7/dist-packages/ipykernel_launcher.py:4: SettingWithCopyWarning: \n",
            "A value is trying to be set on a copy of a slice from a DataFrame.\n",
            "Try using .loc[row_indexer,col_indexer] = value instead\n",
            "\n",
            "See the caveats in the documentation: https://pandas.pydata.org/pandas-docs/stable/user_guide/indexing.html#returning-a-view-versus-a-copy\n",
            "  after removing the cwd from sys.path.\n"
          ]
        },
        {
          "output_type": "execute_result",
          "data": {
            "application/vnd.google.colaboratory.intrinsic+json": {
              "type": "string"
            },
            "text/plain": [
              "'\\n0 - maquiagem\\n1 - games\\n2 - livros\\n3 - brinquedos\\n'"
            ]
          },
          "metadata": {},
          "execution_count": 63
        }
      ]
    },
    {
      "cell_type": "code",
      "metadata": {
        "id": "wk-yWyPMBWjs",
        "colab": {
          "base_uri": "https://localhost:8080/"
        },
        "outputId": "1f220508-6bf0-4eb4-927a-55ab1a4fe444"
      },
      "source": [
        "df_test.info()"
      ],
      "execution_count": null,
      "outputs": [
        {
          "output_type": "stream",
          "name": "stdout",
          "text": [
            "<class 'pandas.core.frame.DataFrame'>\n",
            "Int64Index: 584 entries, 2700 to 1842\n",
            "Data columns (total 6 columns):\n",
            " #   Column     Non-Null Count  Dtype \n",
            "---  ------     --------------  ----- \n",
            " 0   nome       584 non-null    object\n",
            " 1   descricao  584 non-null    object\n",
            " 2   categoria  584 non-null    object\n",
            " 3   texto      584 non-null    object\n",
            " 4   topico     584 non-null    int64 \n",
            " 5   categ_cod  584 non-null    int64 \n",
            "dtypes: int64(2), object(4)\n",
            "memory usage: 31.9+ KB\n"
          ]
        }
      ]
    },
    {
      "cell_type": "code",
      "metadata": {
        "id": "bLeIHBc0BWhS",
        "colab": {
          "base_uri": "https://localhost:8080/"
        },
        "outputId": "04387c1e-8246-49da-eb15-265cd0124131"
      },
      "source": [
        "from sklearn.metrics import accuracy_score, confusion_matrix\n",
        "\n",
        "print(accuracy_score(df_test.categ_cod, df_test.topico))"
      ],
      "execution_count": null,
      "outputs": [
        {
          "output_type": "stream",
          "name": "stdout",
          "text": [
            "0.1660958904109589\n"
          ]
        }
      ]
    },
    {
      "cell_type": "code",
      "metadata": {
        "id": "EfQrsrrgEqYQ",
        "colab": {
          "base_uri": "https://localhost:8080/",
          "height": 450
        },
        "outputId": "62248491-d45b-4e5f-bf12-13c6e5f9e31e"
      },
      "source": [
        "import seaborn as sns\n",
        "import matplotlib.pyplot as plt\n",
        "\n",
        "matrix = confusion_matrix(df_test.categ_cod, df_test.topico)\n",
        "\n",
        "df_cm = pd.DataFrame(matrix, index=list('0123'),\n",
        "                  columns=list('0123'))\n",
        "plt.figure(figsize = (10,7))\n",
        "sns.heatmap(df_cm, annot=True)"
      ],
      "execution_count": null,
      "outputs": [
        {
          "output_type": "execute_result",
          "data": {
            "text/plain": [
              "<matplotlib.axes._subplots.AxesSubplot at 0x7eff84bf3710>"
            ]
          },
          "metadata": {},
          "execution_count": 66
        },
        {
          "output_type": "display_data",
          "data": {
            "image/png": "[encoded data removed]",
            "text/plain": [
              "<Figure size 720x504 with 2 Axes>"
            ]
          },
          "metadata": {
            "needs_background": "light"
          }
        }
      ]
    },
    {
      "cell_type": "code",
      "metadata": {
        "id": "D-p4rtKviR1T"
      },
      "source": [
        "# Corrija a classificação: {'maquiagem': 0, 'game': 3, 'livro': 2, 'brinquedo':1}"
      ],
      "execution_count": null,
      "outputs": []
    },
    {
      "cell_type": "markdown",
      "metadata": {
        "id": "O170Q6rKJBbC"
      },
      "source": [
        "<font size=5>\n",
        "<b>max_df:</b> float in range [0.0, 1.0] or int, default=1.0<br/>\n",
        "When building the vocabulary ignore terms that have a document frequency strictly higher than the given threshold (corpus-specific stop words). If float, the parameter represents a proportion of documents, integer absolute counts. This parameter is ignored if vocabulary is not None.<br/>\n",
        "Google T: Ao criar o vocabulário, ignore os termos que tenham uma frequência de documento estritamente maior que o limite fornecido (palavras de parada específicas do corpus). Se flutuante, o parâmetro representa uma proporção de documentos, número absoluto de contagens. Este parâmetro será ignorado se o vocabulário não for Nenhum.\n",
        "<br/>\n",
        "<br/>\n",
        "\n",
        "<b>min_df:</b> float in range [0.0, 1.0] or int, default=1<br/>\n",
        "When building the vocabulary ignore terms that have a document frequency strictly lower than the given threshold. This value is also called cut-off in the literature. If float, the parameter represents a proportion of documents, integer absolute counts. This parameter is ignored if vocabulary is not None.<br/>\n",
        "Google T: Ao criar o vocabulário, ignore os termos que tenham uma frequência de documento estritamente menor que o limite especificado. Esse valor também é chamado de corte na literatura. Se flutuante, o parâmetro representa uma proporção de documentos, número absoluto de contagens. Este parâmetro será ignorado se o vocabulário não for Nenhum.\n",
        "</font>"
      ]
    },
    {
      "cell_type": "code",
      "metadata": {
        "id": "kIXrFEveINBq",
        "colab": {
          "base_uri": "https://localhost:8080/"
        },
        "outputId": "2b49a3a5-57cc-4af7-c788-a6f1389d182d"
      },
      "source": [
        "from sklearn.feature_extraction.text import TfidfVectorizer\n",
        "from sklearn.model_selection import train_test_split\n",
        "\n",
        "stops = nltk.corpus.stopwords.words('portuguese')\n",
        "\n",
        "vect = TfidfVectorizer(ngram_range=(2,2), stop_words=stops, max_df=0.9, min_df=2)\n",
        "vect.fit(df.texto)\n",
        "text_vect = vect.transform(df.texto)\n",
        "\n",
        "df_train, df_test = train_test_split(\n",
        "      df,\n",
        "      test_size = 0.2, \n",
        "      random_state = 42\n",
        "  )\n",
        "\n",
        "X_train, X_test, y_train, y_test = train_test_split(\n",
        "      text_vect,\n",
        "      df[\"categoria\"],\n",
        "      test_size = 0.2, \n",
        "      random_state = 42\n",
        "  )\n",
        "\n",
        "LDA2 = LatentDirichletAllocation(n_components=4,random_state=42)\n",
        "LDA2.fit(X_train)\n",
        "\n",
        "#LDA2.score(text_vect)"
      ],
      "execution_count": null,
      "outputs": [
        {
          "output_type": "execute_result",
          "data": {
            "text/plain": [
              "LatentDirichletAllocation(batch_size=128, doc_topic_prior=None,\n",
              "                          evaluate_every=-1, learning_decay=0.7,\n",
              "                          learning_method='batch', learning_offset=10.0,\n",
              "                          max_doc_update_iter=100, max_iter=10,\n",
              "                          mean_change_tol=0.001, n_components=4, n_jobs=None,\n",
              "                          perp_tol=0.1, random_state=42, topic_word_prior=None,\n",
              "                          total_samples=1000000.0, verbose=0)"
            ]
          },
          "metadata": {},
          "execution_count": 49
        }
      ]
    },
    {
      "cell_type": "code",
      "metadata": {
        "id": "pP1ZouVYJRw6",
        "colab": {
          "base_uri": "https://localhost:8080/"
        },
        "outputId": "dd747620-0f45-417a-b6ef-0da012c4240f"
      },
      "source": [
        "for index,topic in enumerate(LDA2.components_):\n",
        "    print(f'THE TOP 15 WORDS FOR TOPIC #{index}')\n",
        "    print([vect.get_feature_names()[i] for i in topic.argsort()[-15:]])\n",
        "    print('\\n')"
      ],
      "execution_count": null,
      "outputs": [
        {
          "output_type": "stream",
          "text": [
            "THE TOP 15 WORDS FOR TOPIC #0\n",
            "['efetuar pagamento', 'após envio', 'envio entrega', 'abaixo preço', 'úteis após', 'preço anúncio', 'pronta entrega', 'todos produtos', 'pagamento mercado', 'gta games', 'mercado livre', 'mercado pago', 'prazo entrega', 'prazo envio', 'mercado envios']\n",
            "\n",
            "\n",
            "THE TOP 15 WORDS FOR TOPIC #1\n",
            "['novo físico', 'cmidiomas portuguêsano', 'código barras', 'ed encadernação', 'origem nacional', 'nacional código', 'livromedidas cm', 'produto livromedidas', 'produto novo', 'ruby rose', 'mia vai', 'gel inglot', 'garota calendário', 'paleta sombras', 'delineador gel']\n",
            "\n",
            "\n",
            "THE TOP 15 WORDS FOR TOPIC #2\n",
            "['mercado livre', 'som luz', 'estoque envio', 'efetuar compra', 'vou retirar', 'retirar endereço', 'endereço vendedor', 'pode ser', 'vendedor combinar', 'envio imediato', 'posso jogar', 'combinar vendedor', 'original completo', '30 cm', 'jogar perfil']\n",
            "\n",
            "\n",
            "THE TOP 15 WORDS FOR TOPIC #3\n",
            "['boneco dragon', 'reaismandamos aproximadamente', 'feito frete', 'pronta entrega', 'ser feito', 'aproximadamente 24', 'entregafotos 100', '100 reaismandamos', 'produtos vendemos', 'frete produtos', 'vendemos atacado', 'wow shop', 'atacado wow', 'produto novo', 'dragon ball']\n",
            "\n",
            "\n"
          ],
          "name": "stdout"
        }
      ]
    },
    {
      "cell_type": "code",
      "metadata": {
        "id": "z-8wd-vJIM_E",
        "colab": {
          "base_uri": "https://localhost:8080/",
          "height": 407
        },
        "outputId": "70d9f642-f626-4976-9752-ec34b1bfbc44"
      },
      "source": [
        "results = LDA2.transform(X_test)\n",
        "\n",
        "df_test['topico'] = results.argmax(axis=1)\n",
        "\n",
        "df_test['categ_cod'] = df_test.categoria.map(\n",
        "    {'maquiagem': 0, 'game': 3, 'livro': 2, 'brinquedo':1}\n",
        ")\n",
        "df_test['categ_cod'] = df_test.categ_cod.astype(np.int64)\n",
        "\n",
        "print(accuracy_score(df_test.categ_cod, df_test.topico))"
      ],
      "execution_count": null,
      "outputs": [
        {
          "output_type": "execute_result",
          "data": {
            "text/html": [
              "<div>\n",
              "<style scoped>\n",
              "    .dataframe tbody tr th:only-of-type {\n",
              "        vertical-align: middle;\n",
              "    }\n",
              "\n",
              "    .dataframe tbody tr th {\n",
              "        vertical-align: top;\n",
              "    }\n",
              "\n",
              "    .dataframe thead th {\n",
              "        text-align: right;\n",
              "    }\n",
              "</style>\n",
              "<table border=\"1\" class=\"dataframe\">\n",
              "  <thead>\n",
              "    <tr style=\"text-align: right;\">\n",
              "      <th></th>\n",
              "      <th>nome</th>\n",
              "      <th>descricao</th>\n",
              "      <th>categoria</th>\n",
              "      <th>texto</th>\n",
              "      <th>topico</th>\n",
              "      <th>categ_cod</th>\n",
              "    </tr>\n",
              "  </thead>\n",
              "  <tbody>\n",
              "    <tr>\n",
              "      <th>2700</th>\n",
              "      <td>Estojo Duo Iluminador E Bronzer Belle Angel M...</td>\n",
              "      <td>DUO ILUMINADOR E BRONZER BELLE ANGEL - B025O D...</td>\n",
              "      <td>maquiagem</td>\n",
              "      <td>Estojo Duo Iluminador E Bronzer Belle Angel M...</td>\n",
              "      <td>1</td>\n",
              "      <td>0</td>\n",
              "    </tr>\n",
              "    <tr>\n",
              "      <th>1297</th>\n",
              "      <td>Patrulha Canina Carrinhos De Fricção 6 Person...</td>\n",
              "      <td>Kit carrinhos da Patrulha canina Tamanho: Cerc...</td>\n",
              "      <td>brinquedo</td>\n",
              "      <td>Patrulha Canina Carrinhos De Fricção 6 Person...</td>\n",
              "      <td>1</td>\n",
              "      <td>1</td>\n",
              "    </tr>\n",
              "    <tr>\n",
              "      <th>3162</th>\n",
              "      <td>Pokemon Ultra Moon Nintendo 3ds Midia Fisica ...</td>\n",
              "      <td>#Nossos produtos são NOVOS e 100% ORIGINAIS#  ...</td>\n",
              "      <td>game</td>\n",
              "      <td>Pokemon Ultra Moon Nintendo 3ds Midia Fisica ...</td>\n",
              "      <td>0</td>\n",
              "      <td>3</td>\n",
              "    </tr>\n",
              "    <tr>\n",
              "      <th>2895</th>\n",
              "      <td>Kite Pincel  12 Unidade</td>\n",
              "      <td>esta alta qualidade Punho de madeira Escova Co...</td>\n",
              "      <td>maquiagem</td>\n",
              "      <td>Kite Pincel  12 Unidade  esta alta qualidade ...</td>\n",
              "      <td>1</td>\n",
              "      <td>0</td>\n",
              "    </tr>\n",
              "    <tr>\n",
              "      <th>2226</th>\n",
              "      <td>Maleta Grande P/ Maquiagem Profissional Rodin...</td>\n",
              "      <td>FOTOS REAIS DO PRODUTO - ENVIAMOS SUA MALETA C...</td>\n",
              "      <td>maquiagem</td>\n",
              "      <td>Maleta Grande P/ Maquiagem Profissional Rodin...</td>\n",
              "      <td>1</td>\n",
              "      <td>0</td>\n",
              "    </tr>\n",
              "    <tr>\n",
              "      <th>...</th>\n",
              "      <td>...</td>\n",
              "      <td>...</td>\n",
              "      <td>...</td>\n",
              "      <td>...</td>\n",
              "      <td>...</td>\n",
              "      <td>...</td>\n",
              "    </tr>\n",
              "    <tr>\n",
              "      <th>3058</th>\n",
              "      <td>Maleta Maquiagem 3d Jasmyne 105 Batons Sombra...</td>\n",
              "      <td>Maleta Jasmyne-32 sombras 3D ou matte-06 blush...</td>\n",
              "      <td>maquiagem</td>\n",
              "      <td>Maleta Maquiagem 3d Jasmyne 105 Batons Sombra...</td>\n",
              "      <td>3</td>\n",
              "      <td>0</td>\n",
              "    </tr>\n",
              "    <tr>\n",
              "      <th>3110</th>\n",
              "      <td>Cartão Presente Steam Gift Card R$ 200 Reais ...</td>\n",
              "      <td>.:: VOCÊ ESTÁ COMPRANDO COM A VR GAMERS ::.EST...</td>\n",
              "      <td>game</td>\n",
              "      <td>Cartão Presente Steam Gift Card R$ 200 Reais ...</td>\n",
              "      <td>1</td>\n",
              "      <td>3</td>\n",
              "    </tr>\n",
              "    <tr>\n",
              "      <th>1364</th>\n",
              "      <td>Kit Com 2 Pista Mágica Maluca Carros 3 Com Lu...</td>\n",
              "      <td>Pista Montável Relâmpago Mcqueen Jackson Storm...</td>\n",
              "      <td>brinquedo</td>\n",
              "      <td>Kit Com 2 Pista Mágica Maluca Carros 3 Com Lu...</td>\n",
              "      <td>2</td>\n",
              "      <td>1</td>\n",
              "    </tr>\n",
              "    <tr>\n",
              "      <th>641</th>\n",
              "      <td>Mais Escuro Cinquenta Tons Mais Escuros Pelos...</td>\n",
              "      <td>Sinopse:E L James revisita Cinquenta tons com ...</td>\n",
              "      <td>livro</td>\n",
              "      <td>Mais Escuro Cinquenta Tons Mais Escuros Pelos...</td>\n",
              "      <td>0</td>\n",
              "      <td>2</td>\n",
              "    </tr>\n",
              "    <tr>\n",
              "      <th>1842</th>\n",
              "      <td>Boneco Dragon Ball Z Son Gokou</td>\n",
              "      <td>Produto novo</td>\n",
              "      <td>brinquedo</td>\n",
              "      <td>Boneco Dragon Ball Z Son Gokou   Produto novo</td>\n",
              "      <td>3</td>\n",
              "      <td>1</td>\n",
              "    </tr>\n",
              "  </tbody>\n",
              "</table>\n",
              "<p>584 rows × 6 columns</p>\n",
              "</div>"
            ],
            "text/plain": [
              "                                                   nome  ... categ_cod\n",
              "2700   Estojo Duo Iluminador E Bronzer Belle Angel M...  ...         0\n",
              "1297   Patrulha Canina Carrinhos De Fricção 6 Person...  ...         1\n",
              "3162   Pokemon Ultra Moon Nintendo 3ds Midia Fisica ...  ...         3\n",
              "2895                           Kite Pincel  12 Unidade   ...         0\n",
              "2226   Maleta Grande P/ Maquiagem Profissional Rodin...  ...         0\n",
              "...                                                 ...  ...       ...\n",
              "3058   Maleta Maquiagem 3d Jasmyne 105 Batons Sombra...  ...         0\n",
              "3110   Cartão Presente Steam Gift Card R$ 200 Reais ...  ...         3\n",
              "1364   Kit Com 2 Pista Mágica Maluca Carros 3 Com Lu...  ...         1\n",
              "641    Mais Escuro Cinquenta Tons Mais Escuros Pelos...  ...         2\n",
              "1842                   Boneco Dragon Ball Z Son Gokou    ...         1\n",
              "\n",
              "[584 rows x 6 columns]"
            ]
          },
          "metadata": {
            "tags": []
          },
          "execution_count": 61
        }
      ]
    },
    {
      "cell_type": "code",
      "metadata": {
        "id": "eHOCJUj6IMxM",
        "colab": {
          "base_uri": "https://localhost:8080/",
          "height": 446
        },
        "outputId": "5ab9c927-1c56-4112-ce7f-e622e6eee8bf"
      },
      "source": [
        "import seaborn as sns\n",
        "import matplotlib.pyplot as plt\n",
        "\n",
        "matrix = confusion_matrix(df_test.categ_cod, df_test.topico)\n",
        "\n",
        "df_cm = pd.DataFrame(matrix, index=list('0123'),\n",
        "                  columns=list('0123'))\n",
        "plt.figure(figsize = (10,7))\n",
        "sns.heatmap(df_cm, annot=True)"
      ],
      "execution_count": null,
      "outputs": [
        {
          "output_type": "execute_result",
          "data": {
            "text/plain": [
              "<matplotlib.axes._subplots.AxesSubplot at 0x7f5b359db550>"
            ]
          },
          "metadata": {
            "tags": []
          },
          "execution_count": 62
        },
        {
          "output_type": "display_data",
          "data": {
            "image/png": "[encoded data removed]",
            "text/plain": [
              "<Figure size 720x504 with 2 Axes>"
            ]
          },
          "metadata": {
            "tags": [],
            "needs_background": "light"
          }
        }
      ]
    },
    {
      "cell_type": "code",
      "metadata": {
        "id": "lOJzOTrML3KQ"
      },
      "source": [
        "df_train, df_test = train_test_split(\n",
        "      df,\n",
        "      test_size = 0.2, \n",
        "      random_state = 42\n",
        "  )\n",
        "\n",
        "X_train, X_test, y_train, y_test = train_test_split(\n",
        "      text_vect,\n",
        "      df[\"categoria\"],\n",
        "      test_size = 0.2, \n",
        "      random_state = 42\n",
        "  )\n"
      ],
      "execution_count": null,
      "outputs": []
    },
    {
      "cell_type": "code",
      "metadata": {
        "id": "-Za0-HkCIMub",
        "colab": {
          "base_uri": "https://localhost:8080/"
        },
        "outputId": "50ade50f-351d-4e83-b3f9-321edfafee35"
      },
      "source": [
        "LDA3 = LatentDirichletAllocation(n_components=8,random_state=42)\n",
        "LDA3.fit(X_train)\n",
        "\n",
        "#LDA3.score(text_vect)"
      ],
      "execution_count": null,
      "outputs": [
        {
          "output_type": "execute_result",
          "data": {
            "text/plain": [
              "LatentDirichletAllocation(batch_size=128, doc_topic_prior=None,\n",
              "                          evaluate_every=-1, learning_decay=0.7,\n",
              "                          learning_method='batch', learning_offset=10.0,\n",
              "                          max_doc_update_iter=100, max_iter=10,\n",
              "                          mean_change_tol=0.001, n_components=8, n_jobs=None,\n",
              "                          perp_tol=0.1, random_state=42, topic_word_prior=None,\n",
              "                          total_samples=1000000.0, verbose=0)"
            ]
          },
          "metadata": {
            "tags": []
          },
          "execution_count": 65
        }
      ]
    },
    {
      "cell_type": "code",
      "metadata": {
        "id": "Txp15mb2IMr1",
        "colab": {
          "base_uri": "https://localhost:8080/"
        },
        "outputId": "2e62f879-757c-4cac-aa33-5f7c5f65e535"
      },
      "source": [
        "for index,topic in enumerate(LDA3.components_):\n",
        "    print(f'THE TOP 15 WORDS FOR TOPIC #{index}')\n",
        "    print([vect.get_feature_names()[i] for i in topic.argsort()[-15:]])\n",
        "    print('\\n')"
      ],
      "execution_count": null,
      "outputs": [
        {
          "output_type": "stream",
          "text": [
            "THE TOP 15 WORDS FOR TOPIC #0\n",
            "['pacote incluindo', 'sobrancelhas prova', 'marrom pacote', 'duração alta', 'produto1 pc', 'incluindo caneta', 'tatuagem sobrancelha', 'prova agua', 'delineador sobrancelhas', 'dragon ball', 'midia digital', 'carrinho personagem', 'patrulha canina', 'pronta entrega', 'miss rose']\n",
            "\n",
            "\n",
            "THE TOP 15 WORDS FOR TOPIC #1\n",
            "['produto novo', 'antes compra', 'pincel profissional', 'maquiagem profissional', 'maleta profissional', 'envio imediato', 'sombras ruby', '18 cores', 'profissional grande', 'podem variar', 'campo perguntas', 'pronta entrega', 'maleta maquiagem', 'paleta sombras', 'ruby rose']\n",
            "\n",
            "\n",
            "THE TOP 15 WORDS FOR TOPIC #2\n",
            "['vingadores articuladosemite', 'led produto', 'luz led', 'pedimos compradores', 'compradores verificar', 'canal perguntas', '30 cm', 'perguntas respostas', 'mercado livre', 'disponibilidadeapós efetuar', 'verificar disponibilidadeapós', 'vingadores 30', 'envio imediato', 'efetuar compra', 'som luz']\n",
            "\n",
            "\n",
            "THE TOP 15 WORDS FOR TOPIC #3\n",
            "['ruby rose', 'informações tradutor', 'produto novo', 'brochuranº páginas', 'encadernação brochuranº', '1ª ed', 'característicastipo produto', 'cmidiomas portuguêsano', 'livromedidas cm', 'produto livromedidas', 'código barras', 'nacional código', 'origem nacional', 'novo físico', 'ed encadernação']\n",
            "\n",
            "\n",
            "THE TOP 15 WORDS FOR TOPIC #4\n",
            "['xbox one', 'pode ser', 'jogo original', 'ruby rose', 'combinar vendedor', 'dragon ball', 'vendedor combinar', 'escolha opção', 'retirar endereço', 'endereço vendedor', 'posso jogar', 'original completo', 'vou retirar', 'jogar perfil', 'opção vou']\n",
            "\n",
            "\n",
            "THE TOP 15 WORDS FOR TOPIC #5\n",
            "['16 000000profundidade', 'pronta entrega', '23 000000largura', 'edição 1ano', '1ano edição', 'entrega produto', '04 livros', 'produto novo', 'gel inglot', 'ball son', 'son gokou', 'gokou produto', 'boneco dragon', 'delineador gel', 'dragon ball']\n",
            "\n",
            "\n",
            "THE TOP 15 WORDS FOR TOPIC #6\n",
            "['garantia contra', 'kit ninja', 'novo lacrado', 'fabricação idioma', 'fisica pronta', 'defeito fabricação', 'contra defeito', 'lacrado mídia', 'fio fio', 'mídia fisica', 'dragon ball', 'pronta entrega', 'harry potter', 'garota calendário', 'mia vai']\n",
            "\n",
            "\n",
            "THE TOP 15 WORDS FOR TOPIC #7\n",
            "['feito frete', 'aproximadamente 24', 'vendemos atacado', 'produtos vendemos', 'frete produtos', 'entregafotos 100', '100 reaismandamos', 'wow shop', 'atacado wow', 'mercado livre', 'gta games', 'mercado pago', 'prazo entrega', 'mercado envios', 'prazo envio']\n",
            "\n",
            "\n"
          ],
          "name": "stdout"
        }
      ]
    },
    {
      "cell_type": "code",
      "metadata": {
        "id": "q_C-RKn5IMmy",
        "colab": {
          "base_uri": "https://localhost:8080/"
        },
        "outputId": "b810caa6-29e7-4f9f-fc31-4ef5578c63cb"
      },
      "source": [
        "results = LDA3.transform(X_test)\n",
        "\n",
        "df_test['topico'] = results.argmax(axis=1)\n",
        "\n",
        "df_test['categ_cod'] = df_test.categoria.map(\n",
        "    {'maquiagem': 1, 'game': 2, 'brinquedo': 0, 'livro':3}\n",
        ")\n",
        "df_test['categ_cod'] = df_test.categ_cod.astype(np.int64)\n",
        "\n",
        "print(accuracy_score(df_test.categ_cod, df_test.topico))"
      ],
      "execution_count": null,
      "outputs": [
        {
          "output_type": "execute_result",
          "data": {
            "text/plain": [
              "2700    3\n",
              "1297    0\n",
              "3162    0\n",
              "2895    5\n",
              "2226    3\n",
              "       ..\n",
              "3058    3\n",
              "3110    2\n",
              "1364    1\n",
              "641     7\n",
              "1842    5\n",
              "Name: topico, Length: 584, dtype: int64"
            ]
          },
          "metadata": {
            "tags": []
          },
          "execution_count": 68
        }
      ]
    },
    {
      "cell_type": "markdown",
      "metadata": {
        "id": "Mcr6qgMmb0fp"
      },
      "source": [
        "<br/>\n",
        "<br/>\n",
        "<br/>\n",
        "\n",
        "\n",
        "##**O que aprendemos até aqui que mais marcou você?**\n",
        "---"
      ]
    },
    {
      "cell_type": "code",
      "metadata": {
        "id": "26ceXumcRj7I"
      },
      "source": [
        ""
      ],
      "execution_count": null,
      "outputs": []
    },
    {
      "cell_type": "markdown",
      "metadata": {
        "id": "tXJl7qzvldZA"
      },
      "source": [
        "##**Vamos montar um projeto ideal?**\n",
        "\n",
        "---"
      ]
    },
    {
      "cell_type": "markdown",
      "metadata": {
        "id": "V8qyenWMlm4w"
      },
      "source": [
        "### O que precisamos ter para desenvolver um projeto em NLP onde o objetivo final ter uma base de dados classificada com uma predissão?\n",
        "\n",
        "Use como exemplo nosso case de classificar produtos de um site com base no nome e descrição dos produtos."
      ]
    },
    {
      "cell_type": "code",
      "metadata": {
        "id": "N3TG1Kydlc5r"
      },
      "source": [
        ""
      ],
      "execution_count": null,
      "outputs": []
    }
  ]
}