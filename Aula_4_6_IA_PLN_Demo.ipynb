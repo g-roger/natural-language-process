{
  "nbformat": 4,
  "nbformat_minor": 0,
  "metadata": {
    "colab": {
      "name": "Aula 4-6 IA PLN - Demo.ipynb",
      "provenance": [],
      "collapsed_sections": [],
      "include_colab_link": true
    },
    "kernelspec": {
      "display_name": "Python 3",
      "language": "python",
      "name": "python3"
    }
  },
  "cells": [
    {
      "cell_type": "markdown",
      "metadata": {
        "id": "view-in-github",
        "colab_type": "text"
      },
      "source": [
        "<a href=\"https://colab.research.google.com/github/g-roger/natural-language-process/blob/main/Aula_4_6_IA_PLN_Demo.ipynb\" target=\"_parent\"><img src=\"https://colab.research.google.com/assets/colab-badge.svg\" alt=\"Open In Colab\"/></a>"
      ]
    },
    {
      "cell_type": "markdown",
      "metadata": {
        "id": "ont8JX9spNZz"
      },
      "source": [
        "# **NLTK**\n",
        "\n",
        "---"
      ]
    },
    {
      "cell_type": "code",
      "metadata": {
        "id": "MtRjU5tRYZQ3",
        "colab": {
          "base_uri": "https://localhost:8080/"
        },
        "outputId": "c9a96a06-c2aa-4a67-e160-fb95f6232489"
      },
      "source": [
        "import nltk\n",
        "nltk.download('punkt')\n",
        "\n",
        "from nltk import tokenize\n",
        "\n",
        "texto_exemplo = \"Não sei se entendi como ler o conteúdo da view, então. \\\n",
        "Estou entendendo que a view contém um histórico das movimentações \\\n",
        "dos associados, certo?\"\n",
        "\n",
        "# Exemplo tokenização\n",
        "tokenize.word_tokenize(texto_exemplo, language=\"portuguese\")"
      ],
      "execution_count": null,
      "outputs": [
        {
          "output_type": "stream",
          "name": "stdout",
          "text": [
            "[nltk_data] Downloading package punkt to /root/nltk_data...\n",
            "[nltk_data]   Unzipping tokenizers/punkt.zip.\n"
          ]
        },
        {
          "output_type": "execute_result",
          "data": {
            "text/plain": [
              "['Não',\n",
              " 'sei',\n",
              " 'se',\n",
              " 'entendi',\n",
              " 'como',\n",
              " 'ler',\n",
              " 'o',\n",
              " 'conteúdo',\n",
              " 'da',\n",
              " 'view',\n",
              " ',',\n",
              " 'então',\n",
              " '.',\n",
              " 'Estou',\n",
              " 'entendendo',\n",
              " 'que',\n",
              " 'a',\n",
              " 'view',\n",
              " 'contém',\n",
              " 'um',\n",
              " 'histórico',\n",
              " 'das',\n",
              " 'movimentações',\n",
              " 'dos',\n",
              " 'associados',\n",
              " ',',\n",
              " 'certo',\n",
              " '?']"
            ]
          },
          "metadata": {},
          "execution_count": 1
        }
      ]
    },
    {
      "cell_type": "markdown",
      "metadata": {
        "id": "ReDnaw00nJid"
      },
      "source": [
        "Documentação nltk.tokenize: https://www.nltk.org/api/nltk.tokenize.html\n",
        "\n",
        "Exemplos em português: http://www.nltk.org/howto/portuguese_en.html"
      ]
    },
    {
      "cell_type": "markdown",
      "metadata": {
        "id": "jPHAfEYkVp-f"
      },
      "source": [
        "POS-Tagger NLTK"
      ]
    },
    {
      "cell_type": "code",
      "metadata": {
        "id": "HNORsKEaTbFP",
        "colab": {
          "base_uri": "https://localhost:8080/"
        },
        "outputId": "fd004b8b-3cd8-481a-a5b0-789c135e9a8b"
      },
      "source": [
        "from nltk.tokenize import word_tokenize\n",
        "from nltk.tag import pos_tag\n",
        "import nltk\n",
        "nltk.download('punkt')\n",
        "nltk.download('averaged_perceptron_tagger')\n",
        "nltk.download('universal_tagset')\n",
        "\n",
        "pos_tag(word_tokenize('O Hobbit - 7ª Ed. 2013  Produto NovoBilbo Bolseiro é um hobbit que', language=\"portuguese\"), tagset='universal')"
      ],
      "execution_count": null,
      "outputs": [
        {
          "output_type": "stream",
          "name": "stdout",
          "text": [
            "[nltk_data] Downloading package punkt to /root/nltk_data...\n",
            "[nltk_data]   Package punkt is already up-to-date!\n",
            "[nltk_data] Downloading package averaged_perceptron_tagger to\n",
            "[nltk_data]     /root/nltk_data...\n",
            "[nltk_data]   Unzipping taggers/averaged_perceptron_tagger.zip.\n",
            "[nltk_data] Downloading package universal_tagset to /root/nltk_data...\n",
            "[nltk_data]   Unzipping taggers/universal_tagset.zip.\n"
          ]
        },
        {
          "output_type": "execute_result",
          "data": {
            "text/plain": [
              "[('O', 'NOUN'),\n",
              " ('Hobbit', 'NOUN'),\n",
              " ('-', '.'),\n",
              " ('7ª', 'NUM'),\n",
              " ('Ed.', 'ADJ'),\n",
              " ('2013', 'NUM'),\n",
              " ('Produto', 'NOUN'),\n",
              " ('NovoBilbo', 'NOUN'),\n",
              " ('Bolseiro', 'NOUN'),\n",
              " ('é', 'NOUN'),\n",
              " ('um', 'ADJ'),\n",
              " ('hobbit', 'NOUN'),\n",
              " ('que', 'NOUN')]"
            ]
          },
          "metadata": {},
          "execution_count": 2
        }
      ]
    },
    {
      "cell_type": "markdown",
      "metadata": {
        "id": "PGbw2K4UTdon"
      },
      "source": [
        "# **Sobre o corpus Floresta**\n",
        "\n",
        "---\n",
        "Conhecido como \"Floresta Sintática\". Conjunto de frases já analisadas sintáticamente e tageadas.\n",
        "\n",
        "https://www.linguateca.pt/Floresta/\n",
        "\n",
        "https://www.linguateca.pt/floresta/doc/VISLsymbolset-manual.html\n"
      ]
    },
    {
      "cell_type": "code",
      "metadata": {
        "id": "kySnyrT1c1sy",
        "colab": {
          "base_uri": "https://localhost:8080/"
        },
        "outputId": "42c2551b-8463-49ba-d71a-7b94a34b82b5"
      },
      "source": [
        "from nltk.corpus import floresta\n",
        "import nltk\n",
        "nltk.download('floresta')"
      ],
      "execution_count": null,
      "outputs": [
        {
          "output_type": "stream",
          "name": "stdout",
          "text": [
            "[nltk_data] Downloading package floresta to /root/nltk_data...\n",
            "[nltk_data]   Unzipping corpora/floresta.zip.\n"
          ]
        },
        {
          "output_type": "execute_result",
          "data": {
            "text/plain": [
              "True"
            ]
          },
          "metadata": {},
          "execution_count": 3
        }
      ]
    },
    {
      "cell_type": "code",
      "metadata": {
        "id": "9mE1kjHprAkR",
        "colab": {
          "base_uri": "https://localhost:8080/"
        },
        "outputId": "c8f4e6cb-9a84-4ea1-dee5-41b7a6f2c27f"
      },
      "source": [
        "print(nltk.corpus.floresta.readme())"
      ],
      "execution_count": null,
      "outputs": [
        {
          "output_type": "stream",
          "name": "stdout",
          "text": [
            "Portuguese Treebank\n",
            "\n",
            "Projecto Floresta Sinta(c)tica -- http://www.linguateca.pt/Floresta/\n",
            "Version 7.4  Distributed with permission.\n",
            "\n",
            "Penn Treebank format, available from http://linguateca.di.uminho.pt/FS/fs.html\n",
            "\n",
            "Key to tags (http://visl.sdu.dk/visl/pt/portsymbol.html)\n",
            "\n",
            "<ACC          direct object\n",
            "<ACC-PASS     passive use of pronoun 'se'\n",
            "<ADVS, <ADVO  adverbial argument\n",
            "<ADVL         adjunct adverbial\n",
            "<DAT          dative (indirect) object\n",
            "<FOC          focus marker (or right focus bracket)\n",
            "<OC           object complement\n",
            "<PASS         agent of passive\n",
            "<PIV          prepositional object\n",
            "<PRED         free (subject) predicative, right of main verb\n",
            "<SC           subject complement\n",
            "<SUBJ         subject\n",
            ">A            adverbial pre-adject (intensifier before adjective, adverb, pronoun or participle)\n",
            ">N            prenominal modifier\n",
            ">P            modifier of prepositional phrase (intensifier, operator or focus adverb)\n",
            ">S            modifier of clause (intensifier, operator or focus adverb)\n",
            "A<            adverbial post-adject (modifier or argument of adjective, adverb or participle)\n",
            "A<ADV         adverbial argument of attributive participle\n",
            "A<ADVL        adverbial adjunct of attributive participle\n",
            "A<PASS        agent of passive after attributive participle\n",
            "A<PIV         prepositional object of attributive participle\n",
            "A<SC          subject complement of attributive participle\n",
            "ACC>          accusative (direct) object\n",
            "ACC>-PASS     passive use of pronoun 'se'\n",
            "ACC>>         double-fronted accusative (direct) object before matrix verb\n",
            "ADVS>, ADVO>  adverbial argument\n",
            "ADVL          top node adverbial\n",
            "ADVL>         adjunct adverbial\n",
            "ADVL>A        adjunct adverbial before attributive participle\n",
            "ADVL>AS<      adjunct adverbial in averbal clause\n",
            "APP           identifying apposition\n",
            "AS<           clause body of averbal clause\n",
            "CO            co-ordinator\n",
            "COM           comparator (heading averbal clause)\n",
            "DAT>          dative (intransitive) object\n",
            "FAUX          finite auxiliary\n",
            "FMV           finite main verb\n",
            "FOC>          focus marker (or left focus bracket)\n",
            "IAUX          non-finite auxiliary\n",
            "IMV           non-finite main verb\n",
            "KOMP<         argument of comparative hook\n",
            "N<            postnominal modifier or argument\n",
            "N<PRED        postnominal (in-group) predicative (or non-identifying apposition)\n",
            "NPHR          top node noun phrase\n",
            "NUM<          second part of numeral chain\n",
            "OC>           object complement\n",
            "P<            argument of preposition\n",
            "PIV>          prepositional object\n",
            "PRD           predicator (heading averbal clause)\n",
            "PRED>         free (subject) predicative, left of main verb\n",
            "PREF          prefix (category being phased out)\n",
            "PRT-AUX<      auxiliary particle\n",
            "S<            statement predicative (sentence apposition)\n",
            "SC>           subject complement\n",
            "SUB           subordinator\n",
            "SUBJ>         subject\n",
            "SUBJ>>        double-fronted subject, with interfering matrix og quoting verb\n",
            "TOP           topic constituent\n",
            "VOK           vocative constituent\n",
            "\n",
            "\n",
            "\n"
          ]
        }
      ]
    },
    {
      "cell_type": "code",
      "metadata": {
        "id": "dqcDbl4mdodH",
        "colab": {
          "base_uri": "https://localhost:8080/"
        },
        "outputId": "3f983bfb-7e8c-4888-cd75-add3a5e5a9bf"
      },
      "source": [
        "floresta.tagged_words()"
      ],
      "execution_count": null,
      "outputs": [
        {
          "output_type": "execute_result",
          "data": {
            "text/plain": [
              "[('Um', '>N+art'), ('revivalismo', 'H+n'), ...]"
            ]
          },
          "metadata": {},
          "execution_count": 5
        }
      ]
    },
    {
      "cell_type": "markdown",
      "metadata": {
        "id": "RbMcbwmoMoPU"
      },
      "source": [
        "As tags consistem em algumas informações sintáticas, seguidas por um sinal de mais, seguido por uma tag convencional de POS Tag com a classificação morfológica. Vamos retirar o material antes do sinal de mais (+):"
      ]
    },
    {
      "cell_type": "code",
      "metadata": {
        "colab": {
          "base_uri": "https://localhost:8080/"
        },
        "id": "zk7WlFDaHasW",
        "outputId": "0f76c94f-efc5-4d33-e69d-2ab438f1bdb3"
      },
      "source": [
        "'+' in 'anderson dourado'"
      ],
      "execution_count": null,
      "outputs": [
        {
          "output_type": "execute_result",
          "data": {
            "text/plain": [
              "False"
            ]
          },
          "metadata": {},
          "execution_count": 6
        }
      ]
    },
    {
      "cell_type": "code",
      "metadata": {
        "id": "UVsS_hn0j1O5",
        "colab": {
          "base_uri": "https://localhost:8080/"
        },
        "outputId": "be1a0c08-d7d1-4196-a702-2b46a5cd228a"
      },
      "source": [
        "'+' in 'anderson+dourado'"
      ],
      "execution_count": null,
      "outputs": [
        {
          "output_type": "execute_result",
          "data": {
            "text/plain": [
              "True"
            ]
          },
          "metadata": {},
          "execution_count": 7
        }
      ]
    },
    {
      "cell_type": "code",
      "metadata": {
        "id": "hjE63qXqoA5W"
      },
      "source": [
        "# Função para simplificar a tag\n",
        "def simplifica_tag(t):\n",
        "  if \"+\" in t:\n",
        "    return t.split(\"+\")[1]\n",
        "  return t"
      ],
      "execution_count": null,
      "outputs": []
    },
    {
      "cell_type": "code",
      "metadata": {
        "id": "j2SbIXeNmJf7",
        "colab": {
          "base_uri": "https://localhost:8080/"
        },
        "outputId": "4e6f4663-7d07-43f8-d86b-19438a26a272"
      },
      "source": [
        "# Exemplo 1\n",
        "tag_words = nltk.corpus.floresta.tagged_words() #type(twords)\n",
        "\n",
        "list_palavras = [] #type(list_palavras)\n",
        "tuple_dupla = () #type(tuple_dupla)\n",
        "\n",
        "for word, tag in tag_words:\n",
        "  tuple_dupla = (word.lower(), simplifica_tag(tag))\n",
        "  list_palavras.append(tuple_dupla)\n",
        "\n",
        "list_palavras[:10]"
      ],
      "execution_count": null,
      "outputs": [
        {
          "output_type": "execute_result",
          "data": {
            "text/plain": [
              "[('um', 'art'),\n",
              " ('revivalismo', 'n'),\n",
              " ('refrescante', 'adj'),\n",
              " ('o', 'art'),\n",
              " ('7_e_meio', 'prop'),\n",
              " ('é', 'v-fin'),\n",
              " ('um', 'art'),\n",
              " ('ex-libris', 'n'),\n",
              " ('de', 'prp'),\n",
              " ('a', 'art')]"
            ]
          },
          "metadata": {},
          "execution_count": 9
        }
      ]
    },
    {
      "cell_type": "code",
      "metadata": {
        "id": "5D8P4BWEdq45",
        "colab": {
          "base_uri": "https://localhost:8080/"
        },
        "outputId": "ef1e77ba-c7dc-4dbb-a8c1-995e5e010d72"
      },
      "source": [
        "# Exemplo 2\n",
        "tag_words = nltk.corpus.floresta.tagged_words()\n",
        "tag_words\n",
        "\n",
        "tag_words = [(w.lower(),simplifica_tag(t)) for (w,t) in tag_words]\n",
        "\n",
        "tag_words[:10]"
      ],
      "execution_count": null,
      "outputs": [
        {
          "output_type": "execute_result",
          "data": {
            "text/plain": [
              "[('um', 'art'),\n",
              " ('revivalismo', 'n'),\n",
              " ('refrescante', 'adj'),\n",
              " ('o', 'art'),\n",
              " ('7_e_meio', 'prop'),\n",
              " ('é', 'v-fin'),\n",
              " ('um', 'art'),\n",
              " ('ex-libris', 'n'),\n",
              " ('de', 'prp'),\n",
              " ('a', 'art')]"
            ]
          },
          "metadata": {},
          "execution_count": 10
        }
      ]
    },
    {
      "cell_type": "markdown",
      "metadata": {
        "id": "9w3cHfOheAZ2"
      },
      "source": [
        "Exemplo de texto anotado (tagueado) no corpus Floresta"
      ]
    },
    {
      "cell_type": "code",
      "metadata": {
        "id": "8U1EuM1jg_-I",
        "colab": {
          "base_uri": "https://localhost:8080/"
        },
        "outputId": "785c5a28-649f-4cfa-c268-494f705ca5d6"
      },
      "source": [
        "print(' '.join(word + '/' + tag for (word, tag) in tag_words[:10]))"
      ],
      "execution_count": null,
      "outputs": [
        {
          "output_type": "stream",
          "name": "stdout",
          "text": [
            "um/art revivalismo/n refrescante/adj o/art 7_e_meio/prop é/v-fin um/art ex-libris/n de/prp a/art\n"
          ]
        }
      ]
    },
    {
      "cell_type": "code",
      "metadata": {
        "id": "FQQzXZP5pQ1z",
        "colab": {
          "base_uri": "https://localhost:8080/"
        },
        "outputId": "7e33247c-cb86-4150-e3b5-23614e165d40"
      },
      "source": [
        "tag_sents = floresta.tagged_sents()\n",
        "tag_sents[:2]"
      ],
      "execution_count": null,
      "outputs": [
        {
          "output_type": "execute_result",
          "data": {
            "text/plain": [
              "[[('Um', '>N+art'), ('revivalismo', 'H+n'), ('refrescante', 'N<+adj')],\n",
              " [('O', '>N+art'),\n",
              "  ('7_e_Meio', 'H+prop'),\n",
              "  ('é', 'P+v-fin'),\n",
              "  ('um', '>N+art'),\n",
              "  ('ex-libris', 'H+n'),\n",
              "  ('de', 'H+prp'),\n",
              "  ('a', '>N+art'),\n",
              "  ('noite', 'H+n'),\n",
              "  ('algarvia', 'N<+adj'),\n",
              "  ('.', '.')]]"
            ]
          },
          "metadata": {},
          "execution_count": 12
        }
      ]
    },
    {
      "cell_type": "code",
      "metadata": {
        "id": "VCbf1QPT1InW"
      },
      "source": [
        "# Contagem das tags e mantendo a estruturas das sentenças do corpus floresta\n",
        "from nltk.corpus import floresta\n",
        "from collections import Counter\n",
        "\n",
        "def simplifica_tag(t):\n",
        "  if \"+\" in t:\n",
        "    return t.split(\"+\")[1]\n",
        "  return t \n",
        "\n",
        "counter = Counter()\n",
        "\n",
        "tag_sents = floresta.tagged_sents()\n",
        "tag_new_sents = []\n",
        "for sent in tag_sents:\n",
        "  new_sent = []\n",
        "  for (w,t) in sent:\n",
        "    tag = simplifica_tag(t)\n",
        "    new_sent.append((w.lower(), tag))\n",
        "    counter[tag] += 1\n",
        "  tag_new_sents.append(new_sent)\n",
        "\n",
        "#tag_sents[0]\n",
        "#tag_new_sents[0]"
      ],
      "execution_count": null,
      "outputs": []
    },
    {
      "cell_type": "code",
      "metadata": {
        "id": "DNc4oyTTRzrs",
        "colab": {
          "base_uri": "https://localhost:8080/"
        },
        "outputId": "23be8a7b-f525-48f2-b07e-490cfc819a88"
      },
      "source": [
        "#new_sent\n",
        "tag_new_sents[:2]"
      ],
      "execution_count": null,
      "outputs": [
        {
          "output_type": "execute_result",
          "data": {
            "text/plain": [
              "[[('um', 'art'), ('revivalismo', 'n'), ('refrescante', 'adj')],\n",
              " [('o', 'art'),\n",
              "  ('7_e_meio', 'prop'),\n",
              "  ('é', 'v-fin'),\n",
              "  ('um', 'art'),\n",
              "  ('ex-libris', 'n'),\n",
              "  ('de', 'prp'),\n",
              "  ('a', 'art'),\n",
              "  ('noite', 'n'),\n",
              "  ('algarvia', 'adj'),\n",
              "  ('.', '.')]]"
            ]
          },
          "metadata": {},
          "execution_count": 14
        }
      ]
    },
    {
      "cell_type": "code",
      "metadata": {
        "id": "nNmXhgOw1t7k",
        "colab": {
          "base_uri": "https://localhost:8080/"
        },
        "outputId": "ef39335d-629d-45c6-8af7-c94800a85c8f"
      },
      "source": [
        "counter.most_common(5)"
      ],
      "execution_count": null,
      "outputs": [
        {
          "output_type": "execute_result",
          "data": {
            "text/plain": [
              "[('n', 40081), ('prp', 32442), ('art', 29360), ('v-fin', 15802), (',', 13444)]"
            ]
          },
          "metadata": {},
          "execution_count": 15
        }
      ]
    },
    {
      "cell_type": "code",
      "metadata": {
        "id": "r6mPWpv62Z0l",
        "colab": {
          "base_uri": "https://localhost:8080/"
        },
        "outputId": "73fc33fa-7e64-4d49-c408-b74457b9d13b"
      },
      "source": [
        "# % dos substantivos\n",
        "counter.get('n') / sum(counter.values())"
      ],
      "execution_count": null,
      "outputs": [
        {
          "output_type": "execute_result",
          "data": {
            "text/plain": [
              "0.18919339916545513"
            ]
          },
          "metadata": {},
          "execution_count": 16
        }
      ]
    },
    {
      "cell_type": "markdown",
      "metadata": {
        "id": "FpQ87t8fgAzX"
      },
      "source": [
        "Verificamos que a tag mais comum é N. Essa será nossa referência a tag padrão (gold)."
      ]
    },
    {
      "cell_type": "code",
      "metadata": {
        "id": "oKnTSb5Z7uBI",
        "colab": {
          "base_uri": "https://localhost:8080/"
        },
        "outputId": "a69788d2-0742-4802-9664-7baccce1bc7a"
      },
      "source": [
        "# Crianto uma tag default\n",
        "default_tagger = nltk.DefaultTagger('n')\n",
        "\n",
        "token_texto_exemplo = tokenize.word_tokenize(texto_exemplo, language=\"portuguese\")\n",
        "default_tagger.tag(token_texto_exemplo)"
      ],
      "execution_count": null,
      "outputs": [
        {
          "output_type": "execute_result",
          "data": {
            "text/plain": [
              "[('Não', 'n'),\n",
              " ('sei', 'n'),\n",
              " ('se', 'n'),\n",
              " ('entendi', 'n'),\n",
              " ('como', 'n'),\n",
              " ('ler', 'n'),\n",
              " ('o', 'n'),\n",
              " ('conteúdo', 'n'),\n",
              " ('da', 'n'),\n",
              " ('view', 'n'),\n",
              " (',', 'n'),\n",
              " ('então', 'n'),\n",
              " ('.', 'n'),\n",
              " ('Estou', 'n'),\n",
              " ('entendendo', 'n'),\n",
              " ('que', 'n'),\n",
              " ('a', 'n'),\n",
              " ('view', 'n'),\n",
              " ('contém', 'n'),\n",
              " ('um', 'n'),\n",
              " ('histórico', 'n'),\n",
              " ('das', 'n'),\n",
              " ('movimentações', 'n'),\n",
              " ('dos', 'n'),\n",
              " ('associados', 'n'),\n",
              " (',', 'n'),\n",
              " ('certo', 'n'),\n",
              " ('?', 'n')]"
            ]
          },
          "metadata": {},
          "execution_count": 17
        }
      ]
    },
    {
      "cell_type": "code",
      "metadata": {
        "id": "WZf9bpKwACxK",
        "colab": {
          "base_uri": "https://localhost:8080/"
        },
        "outputId": "74171c4f-a466-42b6-838b-e45d4fa77ff5"
      },
      "source": [
        "# Analisando com base na tag padrão (tag ouro/gold)\n",
        "tag_sents = tag_new_sents\n",
        "\n",
        "default_tagger = nltk.DefaultTagger('n')\n",
        "print(default_tagger.evaluate(tag_sents))"
      ],
      "execution_count": null,
      "outputs": [
        {
          "output_type": "stream",
          "name": "stdout",
          "text": [
            "0.18919339916545513\n"
          ]
        }
      ]
    },
    {
      "cell_type": "code",
      "metadata": {
        "id": "er6gXU5IhTkM",
        "colab": {
          "base_uri": "https://localhost:8080/"
        },
        "outputId": "b4467520-d872-46d6-ba5b-7e66eac48c1d"
      },
      "source": [
        "tag_sents = tag_new_sents\n",
        "#type(tag_sents) #len(tag_sents)\n",
        "#tag_sents[len(tag_sents)-1] #tag_sents[-1]\n",
        "\n",
        "tag_sents_treino = tag_sents[1000:]\n",
        "tag_sents_teste = tag_sents[:1000]\n",
        "\n",
        "tagger0 = nltk.DefaultTagger('n')\n",
        "print(tagger0.evaluate(tag_sents_teste))\n",
        "\n",
        "tagger1 = nltk.UnigramTagger(tag_sents_treino, backoff=tagger0)\n",
        "print(tagger1.evaluate(tag_sents_teste))\n",
        "\n",
        "tagger2 = nltk.BigramTagger(tag_sents_treino, backoff=tagger1)\n",
        "print(tagger2.evaluate(tag_sents_teste))\n",
        "\n",
        "tagger3 = nltk.TrigramTagger(tag_sents_treino, backoff=tagger2)\n",
        "print(tagger3.evaluate(tag_sents_teste))"
      ],
      "execution_count": null,
      "outputs": [
        {
          "output_type": "stream",
          "name": "stdout",
          "text": [
            "0.17800040072129833\n",
            "0.8740532959326788\n",
            "0.8900420757363254\n",
            "0.8887998397114807\n"
          ]
        }
      ]
    },
    {
      "cell_type": "markdown",
      "metadata": {
        "id": "5e4lHBKC9xUB"
      },
      "source": [
        "\n",
        "Documentação dos métodos tag:\n",
        "  - https://www.nltk.org/api/nltk.tag.html\n",
        "\n",
        "Nos baseamos no métodos da documentação abaixo:\n",
        "  - Capítulo 5 - N-Gram Tagging: http://www.nltk.org/book/ch05.html\n",
        "  - Exemplo em português: http://www.nltk.org/howto/portuguese_en.html\n",
        "  - Outros corpus tageados: https://www.nltk.org/book/ch02.html\n"
      ]
    },
    {
      "cell_type": "code",
      "metadata": {
        "id": "ZAe-S-errcNR",
        "colab": {
          "base_uri": "https://localhost:8080/"
        },
        "outputId": "ec7bd0a9-ecc8-4af0-bb54-47a217dd136a"
      },
      "source": [
        "from sklearn.externals import joblib\n",
        "\n",
        "joblib.dump(tagger2, 'tagger.pkl')"
      ],
      "execution_count": null,
      "outputs": [
        {
          "output_type": "stream",
          "name": "stderr",
          "text": [
            "/usr/local/lib/python3.7/dist-packages/sklearn/externals/joblib/__init__.py:15: FutureWarning: sklearn.externals.joblib is deprecated in 0.21 and will be removed in 0.23. Please import this functionality directly from joblib, which can be installed with: pip install joblib. If this warning is raised when loading pickled models, you may need to re-serialize those models with scikit-learn 0.21+.\n",
            "  warnings.warn(msg, category=FutureWarning)\n"
          ]
        },
        {
          "output_type": "execute_result",
          "data": {
            "text/plain": [
              "['tagger.pkl']"
            ]
          },
          "metadata": {},
          "execution_count": 20
        }
      ]
    },
    {
      "cell_type": "code",
      "metadata": {
        "id": "quA-JTPNOzcu",
        "colab": {
          "base_uri": "https://localhost:8080/"
        },
        "outputId": "4074d148-a05a-4f4c-cf1a-562cae12c04a"
      },
      "source": [
        "!ls -all -h"
      ],
      "execution_count": null,
      "outputs": [
        {
          "output_type": "stream",
          "name": "stdout",
          "text": [
            "total 704K\n",
            "drwxr-xr-x 1 root root 4.0K Nov 10 12:30 .\n",
            "drwxr-xr-x 1 root root 4.0K Nov 10 12:28 ..\n",
            "drwxr-xr-x 4 root root 4.0K Nov  1 13:34 .config\n",
            "drwxr-xr-x 1 root root 4.0K Nov  1 13:35 sample_data\n",
            "-rw-r--r-- 1 root root 686K Nov 10 12:30 tagger.pkl\n"
          ]
        }
      ]
    },
    {
      "cell_type": "code",
      "metadata": {
        "id": "RVCddXw7sVsa"
      },
      "source": [
        "bla = joblib.load('tagger.pkl')"
      ],
      "execution_count": null,
      "outputs": []
    },
    {
      "cell_type": "code",
      "metadata": {
        "id": "OKiTgA9ysc0R",
        "colab": {
          "base_uri": "https://localhost:8080/"
        },
        "outputId": "1fe2a5cf-763a-48b6-fd8c-a24683f7c1ee"
      },
      "source": [
        "print(bla.evaluate(tag_sents_teste))"
      ],
      "execution_count": null,
      "outputs": [
        {
          "output_type": "stream",
          "name": "stdout",
          "text": [
            "0.8900420757363254\n"
          ]
        }
      ]
    },
    {
      "cell_type": "code",
      "metadata": {
        "id": "HmZdOuNCaV0j",
        "colab": {
          "base_uri": "https://localhost:8080/"
        },
        "outputId": "46056ecf-8488-438c-9060-177a8da58fb6"
      },
      "source": [
        "texto_exemplo\n",
        "twords = tokenize.word_tokenize(texto_exemplo, language=\"portuguese\")\n",
        "bla.tag(twords)"
      ],
      "execution_count": null,
      "outputs": [
        {
          "output_type": "execute_result",
          "data": {
            "text/plain": [
              "[('Não', 'n'),\n",
              " ('sei', 'v-fin'),\n",
              " ('se', 'pron-pers'),\n",
              " ('entendi', 'n'),\n",
              " ('como', 'adv'),\n",
              " ('ler', 'v-inf'),\n",
              " ('o', 'art'),\n",
              " ('conteúdo', 'n'),\n",
              " ('da', 'n'),\n",
              " ('view', 'n'),\n",
              " (',', ','),\n",
              " ('então', 'adv'),\n",
              " ('.', '.'),\n",
              " ('Estou', 'n'),\n",
              " ('entendendo', 'v-ger'),\n",
              " ('que', 'conj-s'),\n",
              " ('a', 'art'),\n",
              " ('view', 'n'),\n",
              " ('contém', 'n'),\n",
              " ('um', 'art'),\n",
              " ('histórico', 'adj'),\n",
              " ('das', 'n'),\n",
              " ('movimentações', 'n'),\n",
              " ('dos', 'prop'),\n",
              " ('associados', 'n'),\n",
              " (',', ','),\n",
              " ('certo', 'adj'),\n",
              " ('?', '?')]"
            ]
          },
          "metadata": {},
          "execution_count": 24
        }
      ]
    },
    {
      "cell_type": "code",
      "metadata": {
        "id": "fI-YYFYUjwIk",
        "colab": {
          "base_uri": "https://localhost:8080/"
        },
        "outputId": "1fbf0de2-b113-45d6-e269-09c492f935a5"
      },
      "source": [
        "#twords = tokenize.word_tokenize(texto_exemplo, language=\"portuguese\")\n",
        "tagger2.tag(twords)"
      ],
      "execution_count": null,
      "outputs": [
        {
          "output_type": "execute_result",
          "data": {
            "text/plain": [
              "[('Não', 'n'),\n",
              " ('sei', 'v-fin'),\n",
              " ('se', 'pron-pers'),\n",
              " ('entendi', 'n'),\n",
              " ('como', 'adv'),\n",
              " ('ler', 'v-inf'),\n",
              " ('o', 'art'),\n",
              " ('conteúdo', 'n'),\n",
              " ('da', 'n'),\n",
              " ('view', 'n'),\n",
              " (',', ','),\n",
              " ('então', 'adv'),\n",
              " ('.', '.'),\n",
              " ('Estou', 'n'),\n",
              " ('entendendo', 'v-ger'),\n",
              " ('que', 'conj-s'),\n",
              " ('a', 'art'),\n",
              " ('view', 'n'),\n",
              " ('contém', 'n'),\n",
              " ('um', 'art'),\n",
              " ('histórico', 'adj'),\n",
              " ('das', 'n'),\n",
              " ('movimentações', 'n'),\n",
              " ('dos', 'prop'),\n",
              " ('associados', 'n'),\n",
              " (',', ','),\n",
              " ('certo', 'adj'),\n",
              " ('?', '?')]"
            ]
          },
          "metadata": {},
          "execution_count": 25
        }
      ]
    },
    {
      "cell_type": "code",
      "metadata": {
        "id": "9iIx3MhZkl-o",
        "colab": {
          "base_uri": "https://localhost:8080/"
        },
        "outputId": "e59ea1c8-08e8-4c3e-86a3-62a512706478"
      },
      "source": [
        "tagger1.tag(twords)"
      ],
      "execution_count": null,
      "outputs": [
        {
          "output_type": "execute_result",
          "data": {
            "text/plain": [
              "[('Não', 'n'),\n",
              " ('sei', 'v-fin'),\n",
              " ('se', 'pron-pers'),\n",
              " ('entendi', 'n'),\n",
              " ('como', 'adv'),\n",
              " ('ler', 'v-inf'),\n",
              " ('o', 'art'),\n",
              " ('conteúdo', 'n'),\n",
              " ('da', 'n'),\n",
              " ('view', 'n'),\n",
              " (',', ','),\n",
              " ('então', 'adv'),\n",
              " ('.', '.'),\n",
              " ('Estou', 'n'),\n",
              " ('entendendo', 'v-ger'),\n",
              " ('que', 'pron-indp'),\n",
              " ('a', 'art'),\n",
              " ('view', 'n'),\n",
              " ('contém', 'n'),\n",
              " ('um', 'art'),\n",
              " ('histórico', 'adj'),\n",
              " ('das', 'n'),\n",
              " ('movimentações', 'n'),\n",
              " ('dos', 'prop'),\n",
              " ('associados', 'n'),\n",
              " (',', ','),\n",
              " ('certo', 'adj'),\n",
              " ('?', '?')]"
            ]
          },
          "metadata": {},
          "execution_count": 26
        }
      ]
    },
    {
      "cell_type": "code",
      "metadata": {
        "id": "inKncgHXouUe",
        "colab": {
          "base_uri": "https://localhost:8080/"
        },
        "outputId": "ec57dea9-1c63-40b4-8e12-7cb96952eab7"
      },
      "source": [
        "print(nltk.corpus.floresta.readme()[:1000])"
      ],
      "execution_count": null,
      "outputs": [
        {
          "output_type": "stream",
          "name": "stdout",
          "text": [
            "Portuguese Treebank\n",
            "\n",
            "Projecto Floresta Sinta(c)tica -- http://www.linguateca.pt/Floresta/\n",
            "Version 7.4  Distributed with permission.\n",
            "\n",
            "Penn Treebank format, available from http://linguateca.di.uminho.pt/FS/fs.html\n",
            "\n",
            "Key to tags (http://visl.sdu.dk/visl/pt/portsymbol.html)\n",
            "\n",
            "<ACC          direct object\n",
            "<ACC-PASS     passive use of pronoun 'se'\n",
            "<ADVS, <ADVO  adverbial argument\n",
            "<ADVL         adjunct adverbial\n",
            "<DAT          dative (indirect) object\n",
            "<FOC          focus marker (or right focus bracket)\n",
            "<OC           object complement\n",
            "<PASS         agent of passive\n",
            "<PIV          prepositional object\n",
            "<PRED         free (subject) predicative, right of main verb\n",
            "<SC           subject complement\n",
            "<SUBJ         subject\n",
            ">A            adverbial pre-adject (intensifier before adjective, adverb, pronoun or participle)\n",
            ">N            prenominal modifier\n",
            ">P            modifier of prepositional phrase (intensifier, operator or focus adverb)\n",
            ">S            modifier of clause (intensifier, operator or focus adverb\n"
          ]
        }
      ]
    },
    {
      "cell_type": "markdown",
      "metadata": {
        "id": "WpdWBDZlWrDw"
      },
      "source": [
        "# **TextBlob**\n",
        "\n",
        "---\n",
        "\n",
        "O TextBlob já oferente uma serie de recursos de PLN, como: marcação POS-Tag, extração de frases substantivas, análise de sentimentos, classificação, tradução e outras.\n",
        "\n",
        "- Documentação oficial: https://textblob.readthedocs.io/en/dev/index.html\n",
        "- Natural Language Basics with TextBlob - Allison Parrish: http://rwet.decontextualize.com/book/textblob/\n",
        "\n"
      ]
    },
    {
      "cell_type": "code",
      "metadata": {
        "id": "_4kC31vdIlza",
        "colab": {
          "base_uri": "https://localhost:8080/"
        },
        "outputId": "6d8f2e90-3f65-4d5d-90dc-d57622b7cc88"
      },
      "source": [
        "!pip install textblob"
      ],
      "execution_count": null,
      "outputs": [
        {
          "output_type": "stream",
          "name": "stdout",
          "text": [
            "Requirement already satisfied: textblob in /usr/local/lib/python3.7/dist-packages (0.15.3)\n",
            "Requirement already satisfied: nltk>=3.1 in /usr/local/lib/python3.7/dist-packages (from textblob) (3.2.5)\n",
            "Requirement already satisfied: six in /usr/local/lib/python3.7/dist-packages (from nltk>=3.1->textblob) (1.15.0)\n"
          ]
        }
      ]
    },
    {
      "cell_type": "code",
      "metadata": {
        "id": "udjWzyToWuKb",
        "colab": {
          "base_uri": "https://localhost:8080/"
        },
        "outputId": "a28867c4-3a84-4730-91fe-8fc8b87665c4"
      },
      "source": [
        "from textblob import TextBlob\n",
        "from textblob.sentiments import NaiveBayesAnalyzer\n",
        "import nltk\n",
        "nltk.download('movie_reviews')\n",
        "nltk.download('punkt')\n",
        "\n",
        "opinion = TextBlob(\"batman vs superman is a shit!\", analyzer=NaiveBayesAnalyzer())\n",
        "opinion.sentiment"
      ],
      "execution_count": null,
      "outputs": [
        {
          "output_type": "stream",
          "name": "stdout",
          "text": [
            "[nltk_data] Downloading package movie_reviews to /root/nltk_data...\n",
            "[nltk_data]   Unzipping corpora/movie_reviews.zip.\n",
            "[nltk_data] Downloading package punkt to /root/nltk_data...\n",
            "[nltk_data]   Package punkt is already up-to-date!\n"
          ]
        },
        {
          "output_type": "execute_result",
          "data": {
            "text/plain": [
              "Sentiment(classification='neg', p_pos=0.288629160063391, p_neg=0.7113708399366088)"
            ]
          },
          "metadata": {},
          "execution_count": 29
        }
      ]
    },
    {
      "cell_type": "code",
      "metadata": {
        "id": "WuKIO5dO5Mg5",
        "colab": {
          "base_uri": "https://localhost:8080/"
        },
        "outputId": "d3b4314f-56e8-4527-cbc6-219ebe767434"
      },
      "source": [
        "nltk.download('averaged_perceptron_tagger')"
      ],
      "execution_count": null,
      "outputs": [
        {
          "output_type": "stream",
          "name": "stdout",
          "text": [
            "[nltk_data] Downloading package averaged_perceptron_tagger to\n",
            "[nltk_data]     /root/nltk_data...\n",
            "[nltk_data]   Package averaged_perceptron_tagger is already up-to-\n",
            "[nltk_data]       date!\n"
          ]
        },
        {
          "output_type": "execute_result",
          "data": {
            "text/plain": [
              "True"
            ]
          },
          "metadata": {},
          "execution_count": 30
        }
      ]
    },
    {
      "cell_type": "markdown",
      "metadata": {
        "id": "RjTHSeM-SBMh"
      },
      "source": [
        "Outras funcionalidades do TextBlob, como: tradutor e pos-tag"
      ]
    },
    {
      "cell_type": "code",
      "metadata": {
        "colab": {
          "base_uri": "https://localhost:8080/",
          "height": 35
        },
        "id": "dYx4-xZWR5xs",
        "outputId": "5bbb5d8e-8540-4837-d949-b5a34f891878"
      },
      "source": [
        "'''\n",
        "texto_exemplo = \"Não sei se entendi como ler o conteúdo da view, então. \\\n",
        "Estou entendendo que a view contém um histórico das movimentações \\\n",
        "dos associados, certo?\"\n",
        "'''\n",
        "texto_exemplo"
      ],
      "execution_count": null,
      "outputs": [
        {
          "output_type": "execute_result",
          "data": {
            "application/vnd.google.colaboratory.intrinsic+json": {
              "type": "string"
            },
            "text/plain": [
              "'Não sei se entendi como ler o conteúdo da view, então. Estou entendendo que a view contém um histórico das movimentações dos associados, certo?'"
            ]
          },
          "metadata": {},
          "execution_count": 31
        }
      ]
    },
    {
      "cell_type": "code",
      "metadata": {
        "id": "xM5jokbDglMJ"
      },
      "source": [
        "'''\n",
        "print(\"Frase original: \", texto_exemplo)\n",
        "\n",
        "tblob = TextBlob(texto_exemplo)\n",
        "\n",
        "print('Idioma: ',tblob.detect_language())\n",
        "\n",
        "en_tblob = tblob.translate(to='en')\n",
        "\n",
        "print(\"Traduzido: \", en_tblob)\n",
        "\n",
        "print(\"Tags: \", en_tblob.tags)\n",
        "'''"
      ],
      "execution_count": null,
      "outputs": []
    },
    {
      "cell_type": "code",
      "metadata": {
        "id": "DJeCWBioc6Wu"
      },
      "source": [
        "'''\n",
        "text = \"As aulas da USP são muito chatas\"\n",
        "\n",
        "tblob = TextBlob(text)\n",
        "\n",
        "en_text = tblob.translate(to='en')\n",
        "\n",
        "en_text\n",
        "'''"
      ],
      "execution_count": null,
      "outputs": []
    },
    {
      "cell_type": "code",
      "metadata": {
        "id": "Z_pip7sRdLV0"
      },
      "source": [
        "'''\n",
        "en = TextBlob(en_text.string, analyzer=NaiveBayesAnalyzer())\n",
        "\n",
        "en.sentiment\n",
        "'''"
      ],
      "execution_count": null,
      "outputs": []
    },
    {
      "cell_type": "code",
      "metadata": {
        "id": "i66U-_tP3Yv8"
      },
      "source": [
        "'''\n",
        "# Exemplo com uma forma de deixar todo o texto no mesmo indioma\n",
        "en_text = \"As aulas da USP são muito chatas. My god!\"\n",
        "\n",
        "#Exemplo 1\n",
        "tblob = TextBlob(en_text)\n",
        "pt_text = tblob.translate(from_lang='en', to='pt')\n",
        "\n",
        "pt_text\n",
        "'''"
      ],
      "execution_count": null,
      "outputs": []
    },
    {
      "cell_type": "markdown",
      "metadata": {
        "id": "TEyVtc92Vkaj"
      },
      "source": [
        "***Obs: O TextBlob para TRADUÇÕES não está funcioando a princípio, pois pelas pesquisas que eu fiz, houve alguma alteração na API do Google e a bliblioteca TextBlob não foi atualizada ainda.***"
      ]
    },
    {
      "cell_type": "markdown",
      "metadata": {
        "id": "Tz9WE7opSIFp"
      },
      "source": [
        "Outro tradutor"
      ]
    },
    {
      "cell_type": "code",
      "metadata": {
        "id": "pUhLrK37I4D-"
      },
      "source": [
        "!pip install translate"
      ],
      "execution_count": null,
      "outputs": []
    },
    {
      "cell_type": "code",
      "metadata": {
        "id": "5hVs811vvx7d",
        "colab": {
          "base_uri": "https://localhost:8080/",
          "height": 35
        },
        "outputId": "4862ba86-af71-426c-8eef-542d6b6aabe9"
      },
      "source": [
        "from translate import Translator\n",
        "\n",
        "#Exemplo 2 usando outro pacote o \"translate\"\n",
        "en_text = \"As aulas da USP são muito chatas. My god!\"\n",
        "\n",
        "translator = Translator(to_lang=\"pt\")\n",
        "pt_text = translator.translate(en_text)\n",
        "\n",
        "pt_text"
      ],
      "execution_count": null,
      "outputs": [
        {
          "output_type": "execute_result",
          "data": {
            "application/vnd.google.colaboratory.intrinsic+json": {
              "type": "string"
            },
            "text/plain": [
              "'As aulas da USP são muito chatas. Meu Deus!'"
            ]
          },
          "metadata": {},
          "execution_count": 33
        }
      ]
    },
    {
      "cell_type": "markdown",
      "metadata": {
        "id": "jW_uBucJSPmo"
      },
      "source": [
        "### Treinando um modelo do TextBlob"
      ]
    },
    {
      "cell_type": "code",
      "metadata": {
        "colab": {
          "base_uri": "https://localhost:8080/"
        },
        "id": "Fh1_3CoNSMV4",
        "outputId": "9e8379cb-bd3e-49a2-cbbe-4d46261bcfb7"
      },
      "source": [
        "# Treinamento do Classificador TextBlob ()\n",
        "import pandas as pd\n",
        "from textblob.classifiers import NaiveBayesClassifier\n",
        "from textblob import TextBlob\n",
        "import nltk\n",
        "nltk.download('punkt')\n",
        "\n",
        "# Demostração de validação\n",
        "df_treino = pd.DataFrame({\n",
        "    'text': [\n",
        "      'Sobre MBA ? Eu gostei muito do MBA da FIAP',\n",
        "      'O MBA da FIAP pode melhorar, não gostei muito',\n",
        "      'O curso pode melhorar'\n",
        "    ],\n",
        "    'class': [\n",
        "        'positivo',\n",
        "        'negativo',\n",
        "        'negativo'\n",
        "    ]})\n",
        "\n",
        "# Treinamento do modelo\n",
        "model = NaiveBayesClassifier(df_treino.values.tolist())"
      ],
      "execution_count": null,
      "outputs": [
        {
          "output_type": "stream",
          "name": "stdout",
          "text": [
            "[nltk_data] Downloading package punkt to /root/nltk_data...\n",
            "[nltk_data]   Package punkt is already up-to-date!\n"
          ]
        }
      ]
    },
    {
      "cell_type": "code",
      "metadata": {
        "id": "0faab2R6SMTg"
      },
      "source": [
        "# Demostração de validação\n",
        "df_teste = pd.DataFrame({\n",
        "    'text': [\n",
        "      'O curso pode melhorar'\n",
        "    ],\n",
        "    'class': [\n",
        "        'negativo'\n",
        "    ]})\n",
        "\n",
        "subset_teste = df_teste[['text','class']]\n",
        "tuples_teste = [tuple(x) for x in subset_teste.values]"
      ],
      "execution_count": null,
      "outputs": []
    },
    {
      "cell_type": "code",
      "metadata": {
        "colab": {
          "base_uri": "https://localhost:8080/"
        },
        "id": "FUVP78mGSMOK",
        "outputId": "1723bf20-8aec-4ae3-8c3c-e95d5ed41faa"
      },
      "source": [
        "accuracy = model.accuracy(df_teste[['text','class']].values.tolist())\n",
        "\n",
        "y_predito = model.classify(tuples_teste[0][0])\n",
        "y_predito\n",
        "\n",
        "print('Acurácia: {}'.format(accuracy))\n",
        "print(y_predito)"
      ],
      "execution_count": null,
      "outputs": [
        {
          "output_type": "stream",
          "name": "stdout",
          "text": [
            "Acurácia: 1.0\n",
            "negativo\n"
          ]
        }
      ]
    },
    {
      "cell_type": "code",
      "metadata": {
        "colab": {
          "base_uri": "https://localhost:8080/"
        },
        "id": "3vlBYSFSSMLm",
        "outputId": "a7c66812-fbfe-49b9-9dec-805d4b015c55"
      },
      "source": [
        "# outra forma\n",
        "texto = 'O curso pode melhorar'\n",
        "\n",
        "blob = TextBlob(texto,classifier=model)\n",
        "\n",
        "print('Predição: {}'.format(blob.classify()))"
      ],
      "execution_count": null,
      "outputs": [
        {
          "output_type": "stream",
          "name": "stdout",
          "text": [
            "Predição: negativo\n"
          ]
        }
      ]
    },
    {
      "cell_type": "markdown",
      "metadata": {
        "id": "F5bpdFRLSc3n"
      },
      "source": [
        "Aplicando o modelo de classificação do TextBlob na nossa base de produtos"
      ]
    },
    {
      "cell_type": "code",
      "metadata": {
        "id": "hRpPPkhcSbmr",
        "colab": {
          "base_uri": "https://localhost:8080/"
        },
        "outputId": "867ae85e-c483-45fd-f1cc-0850525544d4"
      },
      "source": [
        "import pandas as pd\n",
        "from sklearn.model_selection import train_test_split\n",
        "from textblob.classifiers import NaiveBayesClassifier\n",
        "from textblob import TextBlob\n",
        "import nltk\n",
        "nltk.download('punkt')\n",
        "\n",
        "# carrega os dados\n",
        "df = pd.read_csv(\"https://dados-ml-pln.s3-sa-east-1.amazonaws.com/produtos.csv\", delimiter=\";\", encoding='utf-8').sample(1000)\n",
        "df.dropna(inplace=True)\n",
        "df[\"texto\"] = df['nome'] + \" \" + df['descricao']\n",
        "\n",
        "# divisão das amostras em treino e teste\n",
        "df_treino, df_teste = train_test_split(\n",
        "      df, \n",
        "      test_size = 0.3, \n",
        "      random_state = 42\n",
        "  )\n",
        "\n",
        "# Preparando os dados para o modelo\n",
        "subset_treino = df_treino[['texto','categoria']]\n",
        "tuples_treino = [tuple(x) for x in subset_treino.values]\n",
        "#tuples_treino[0]\n",
        "subset_teste = df_teste[['texto','categoria']]\n",
        "tuples_teste = [tuple(x) for x in subset_teste.values]\n",
        "\n",
        "# Treinamento do modelo\n",
        "model = NaiveBayesClassifier(tuples_treino)\n",
        "# ou\n",
        "#model = NaiveBayesClassifier(df_treino[['texto','categoria']].values.tolist())\n",
        "print(model)\n",
        "\n",
        "# validação\n",
        "accuracy = model.accuracy(tuples_teste)\n",
        "print('Precisão: {}'.format(accuracy))\n",
        "\n",
        "# classificação (predição)\n",
        "def fn_classificacao():\n",
        "  for i in range(len(tuples_teste)):\n",
        "    classification = model.classify(tuples_teste[i][0])\n",
        "    y_predito.append(classification)\n",
        "\n",
        "y_predito = []\n",
        "fn_classificacao()\n",
        "\n",
        "df_teste['categoria_predito'] = y_predito\n",
        "\n",
        "print(df_teste[['categoria','categoria_predito']].head(5))\n",
        "\n",
        "#y_predito = model.classify(df_teste[['texto','categoria']].values.tolist())\n",
        "#y_predito"
      ],
      "execution_count": null,
      "outputs": [
        {
          "output_type": "stream",
          "name": "stdout",
          "text": [
            "[nltk_data] Downloading package punkt to /root/nltk_data...\n",
            "[nltk_data]   Package punkt is already up-to-date!\n",
            "<NaiveBayesClassifier trained on 513 instances>\n",
            "Precisão: 0.8227272727272728\n",
            "      categoria categoria_predito\n",
            "2795  maquiagem         brinquedo\n",
            "758       livro             livro\n",
            "1787  brinquedo         brinquedo\n",
            "3444       game         brinquedo\n",
            "1997  brinquedo         brinquedo\n"
          ]
        },
        {
          "output_type": "stream",
          "name": "stderr",
          "text": [
            "/usr/local/lib/python3.7/dist-packages/ipykernel_launcher.py:46: SettingWithCopyWarning: \n",
            "A value is trying to be set on a copy of a slice from a DataFrame.\n",
            "Try using .loc[row_indexer,col_indexer] = value instead\n",
            "\n",
            "See the caveats in the documentation: https://pandas.pydata.org/pandas-docs/stable/user_guide/indexing.html#returning-a-view-versus-a-copy\n"
          ]
        }
      ]
    },
    {
      "cell_type": "code",
      "metadata": {
        "id": "zBpxl3BOVYs7"
      },
      "source": [
        ""
      ],
      "execution_count": null,
      "outputs": []
    },
    {
      "cell_type": "markdown",
      "metadata": {
        "id": "tZFcDaAUp-f2"
      },
      "source": [
        "# **SpaCy**\n",
        "\n",
        "---\n"
      ]
    },
    {
      "cell_type": "code",
      "metadata": {
        "id": "ii4EiP-ciUGo"
      },
      "source": [
        "!pip install spacy\n",
        "!python -m spacy download pt"
      ],
      "execution_count": null,
      "outputs": []
    },
    {
      "cell_type": "code",
      "metadata": {
        "id": "9ZERDUlN--4q"
      },
      "source": [
        "# Outros modelos do pacote SpaCy\n",
        "#!python -m spacy download en\n",
        "#!python -m spacy download en_core_web_lg\n",
        "#!python -m spacy download pt_core_news_sm"
      ],
      "execution_count": null,
      "outputs": []
    },
    {
      "cell_type": "markdown",
      "metadata": {
        "id": "wikgr3q7zs8W"
      },
      "source": [
        "Os modelos e linguagens que o SpaCy suporta: https://spacy.io/usage/models\n",
        "\n",
        "Detalhes do modelo em português: https://spacy.io/models/pt\n"
      ]
    },
    {
      "cell_type": "code",
      "metadata": {
        "id": "cxv4W49BqDC_",
        "colab": {
          "base_uri": "https://localhost:8080/"
        },
        "outputId": "180b80cb-d76e-469b-d663-dc3f013d88b4"
      },
      "source": [
        "import spacy\n",
        "\n",
        "nlp = spacy.load('pt')\n",
        "\n",
        "doc = nlp(u'Você encontrou o livro que eu te falei, Carla?')\n",
        "\n",
        "print(type(doc))\n",
        "print([token.orth_ for token in doc])"
      ],
      "execution_count": null,
      "outputs": [
        {
          "output_type": "stream",
          "name": "stdout",
          "text": [
            "<class 'spacy.tokens.doc.Doc'>\n",
            "['Você', 'encontrou', 'o', 'livro', 'que', 'eu', 'te', 'falei', ',', 'Carla', '?']\n"
          ]
        }
      ]
    },
    {
      "cell_type": "code",
      "metadata": {
        "id": "zkxmhVTe16p4",
        "colab": {
          "base_uri": "https://localhost:8080/"
        },
        "outputId": "49a5dbbd-2486-4a76-f427-1f8912f839dc"
      },
      "source": [
        "print([token.text for token in doc])"
      ],
      "execution_count": null,
      "outputs": [
        {
          "output_type": "stream",
          "name": "stdout",
          "text": [
            "['Você', 'encontrou', 'o', 'livro', 'que', 'eu', 'te', 'falei', ',', 'Carla', '?']\n"
          ]
        }
      ]
    },
    {
      "cell_type": "code",
      "metadata": {
        "id": "dvXJTq8ofR3m",
        "colab": {
          "base_uri": "https://localhost:8080/"
        },
        "outputId": "22e3d98e-7249-48f2-e53a-3c5deb1495e6"
      },
      "source": [
        "type(doc[0].orth_)"
      ],
      "execution_count": null,
      "outputs": [
        {
          "output_type": "execute_result",
          "data": {
            "text/plain": [
              "str"
            ]
          },
          "metadata": {},
          "execution_count": 45
        }
      ]
    },
    {
      "cell_type": "code",
      "metadata": {
        "id": "YXLpdMNH3XxY",
        "colab": {
          "base_uri": "https://localhost:8080/",
          "height": 35
        },
        "outputId": "b6c85de3-acaa-48c9-ae5b-a0a214149d7d"
      },
      "source": [
        "doc[0].orth_"
      ],
      "execution_count": null,
      "outputs": [
        {
          "output_type": "execute_result",
          "data": {
            "application/vnd.google.colaboratory.intrinsic+json": {
              "type": "string"
            },
            "text/plain": [
              "'Você'"
            ]
          },
          "metadata": {},
          "execution_count": 46
        }
      ]
    },
    {
      "cell_type": "code",
      "metadata": {
        "id": "kihe7mhKrZFQ",
        "colab": {
          "base_uri": "https://localhost:8080/"
        },
        "outputId": "35dbf526-7b88-4cd3-c2b1-caf98e2e06d3"
      },
      "source": [
        "[(token.text, token.orth_, token.pos_, token.dep_, spacy.explain(token.pos_)) for token in doc]"
      ],
      "execution_count": null,
      "outputs": [
        {
          "output_type": "execute_result",
          "data": {
            "text/plain": [
              "[('Você', 'Você', 'PRON', 'nsubj', 'pronoun'),\n",
              " ('encontrou', 'encontrou', 'VERB', 'ROOT', 'verb'),\n",
              " ('o', 'o', 'DET', 'det', 'determiner'),\n",
              " ('livro', 'livro', 'NOUN', 'obj', 'noun'),\n",
              " ('que', 'que', 'PRON', 'obj', 'pronoun'),\n",
              " ('eu', 'eu', 'PRON', 'nsubj', 'pronoun'),\n",
              " ('te', 'te', 'VERB', 'obj', 'verb'),\n",
              " ('falei', 'falei', 'VERB', 'acl:relcl', 'verb'),\n",
              " (',', ',', 'PUNCT', 'punct', 'punctuation'),\n",
              " ('Carla', 'Carla', 'PROPN', 'conj', 'proper noun'),\n",
              " ('?', '?', 'PUNCT', 'punct', 'punctuation')]"
            ]
          },
          "metadata": {},
          "execution_count": 47
        }
      ]
    },
    {
      "cell_type": "markdown",
      "metadata": {
        "id": "p4IKxyc0ghgX"
      },
      "source": [
        "Uma lista completa de dependências sintáticas pode ser vista em: https://spacy.io/api/annotation#dependency-parsing \n",
        "\n",
        "Um bom material complementar para dependências sintáticas pode ser vista no [\"Stanford typed dependencies manual\"](https://nlp.stanford.edu/software/dependencies_manual.pdf)\n"
      ]
    },
    {
      "cell_type": "code",
      "metadata": {
        "id": "JGGhkVL5b_kb",
        "colab": {
          "base_uri": "https://localhost:8080/"
        },
        "outputId": "5c16ff2d-bd2f-4036-b5fc-55ba866dcb61"
      },
      "source": [
        "doc"
      ],
      "execution_count": null,
      "outputs": [
        {
          "output_type": "execute_result",
          "data": {
            "text/plain": [
              "Você encontrou o livro que eu te falei, Carla?"
            ]
          },
          "metadata": {},
          "execution_count": 48
        }
      ]
    },
    {
      "cell_type": "code",
      "metadata": {
        "id": "lX_bRMWpKE3R",
        "colab": {
          "base_uri": "https://localhost:8080/"
        },
        "outputId": "1d8a75cf-0e33-4799-927e-9dbb251dc984"
      },
      "source": [
        "[token.lemma_ for token in doc]"
      ],
      "execution_count": null,
      "outputs": [
        {
          "output_type": "execute_result",
          "data": {
            "text/plain": [
              "['Você',\n",
              " 'encontrar',\n",
              " 'o',\n",
              " 'livrar',\n",
              " 'que',\n",
              " 'eu',\n",
              " 'te',\n",
              " 'falar',\n",
              " ',',\n",
              " 'Carla',\n",
              " '?']"
            ]
          },
          "metadata": {},
          "execution_count": 49
        }
      ]
    },
    {
      "cell_type": "code",
      "metadata": {
        "id": "yD_Mmy2YKE3U",
        "colab": {
          "base_uri": "https://localhost:8080/"
        },
        "outputId": "b2cf5769-b57d-470c-91dd-d79a02768fbc"
      },
      "source": [
        "doc = nlp(u'encontrardes, encontraram, encontrarão, encontrariam, encontrasse, encontraria')\n",
        "print([token.lemma_ for token in doc])"
      ],
      "execution_count": null,
      "outputs": [
        {
          "output_type": "stream",
          "name": "stdout",
          "text": [
            "['encontrar', ',', 'encontrar', ',', 'encontrar', ',', 'encontrar', ',', 'encontrar', ',', 'encontrar']\n"
          ]
        }
      ]
    },
    {
      "cell_type": "markdown",
      "metadata": {
        "id": "AIbo-wEj5JUn"
      },
      "source": [
        "Reconhecimento de entidades nomeadas - NER: Named-Enntity Recognition.\n",
        "\n",
        "Utilizada para reconhecer pessoas, locais, empresas, datas, numerais e outros."
      ]
    },
    {
      "cell_type": "code",
      "metadata": {
        "id": "_NPR6lntKE3X",
        "colab": {
          "base_uri": "https://localhost:8080/"
        },
        "outputId": "bcf0b685-8d68-42da-d1a3-1253eea2043e"
      },
      "source": [
        "doc = nlp(u'Pelé um dos melhores escritores do Brasil, \\\n",
        "foi o primeiro presidente da Academia Brasileira de Letras')\n",
        "\n",
        "print(doc.ents)"
      ],
      "execution_count": null,
      "outputs": [
        {
          "output_type": "stream",
          "name": "stdout",
          "text": [
            "(Pelé, Brasil, Academia Brasileira de Letras)\n"
          ]
        }
      ]
    },
    {
      "cell_type": "code",
      "metadata": {
        "id": "F9APZK79KE3b",
        "colab": {
          "base_uri": "https://localhost:8080/"
        },
        "outputId": "71b964b8-a5ad-4cf4-e8c2-8aecdd35d7a3"
      },
      "source": [
        "[(entity, entity.label_, spacy.explain(entity.label_)) for entity in doc.ents]"
      ],
      "execution_count": null,
      "outputs": [
        {
          "output_type": "execute_result",
          "data": {
            "text/plain": [
              "[(Pelé, 'PER', 'Named person or family.'),\n",
              " (Brasil, 'LOC', 'Non-GPE locations, mountain ranges, bodies of water'),\n",
              " (Academia Brasileira de Letras,\n",
              "  'ORG',\n",
              "  'Companies, agencies, institutions, etc.')]"
            ]
          },
          "metadata": {},
          "execution_count": 52
        }
      ]
    },
    {
      "cell_type": "code",
      "metadata": {
        "id": "qc0zcc6b_YZP",
        "colab": {
          "base_uri": "https://localhost:8080/"
        },
        "outputId": "da065cd5-e015-404e-ea15-a7674e76909c"
      },
      "source": [
        "[(entity, entity.pos_) for entity in doc]"
      ],
      "execution_count": null,
      "outputs": [
        {
          "output_type": "execute_result",
          "data": {
            "text/plain": [
              "[(Pelé, 'PROPN'),\n",
              " (um, 'NUM'),\n",
              " (dos, 'ADP'),\n",
              " (melhores, 'ADJ'),\n",
              " (escritores, 'NOUN'),\n",
              " (do, 'ADP'),\n",
              " (Brasil, 'PROPN'),\n",
              " (,, 'PUNCT'),\n",
              " (foi, 'VERB'),\n",
              " (o, 'DET'),\n",
              " (primeiro, 'ADJ'),\n",
              " (presidente, 'NOUN'),\n",
              " (da, 'ADP'),\n",
              " (Academia, 'PROPN'),\n",
              " (Brasileira, 'PROPN'),\n",
              " (de, 'ADP'),\n",
              " (Letras, 'PROPN')]"
            ]
          },
          "metadata": {},
          "execution_count": 53
        }
      ]
    },
    {
      "cell_type": "code",
      "metadata": {
        "id": "Ru_7c5mpia4E",
        "colab": {
          "base_uri": "https://localhost:8080/"
        },
        "outputId": "5f9984ee-8aab-4449-b87e-4028069fe481"
      },
      "source": [
        "doc8 = nlp(u'Google investirá 6 milhões de dólares')\n",
        "\n",
        "for token in doc8:\n",
        "    print(token.text, end =' | ')\n",
        "\n",
        "print('\\n----')\n",
        "\n",
        "for ent in doc8.ents:\n",
        "    print(ent.text + ' - ' + ent.label_ + ' - ' + str(spacy.explain(ent.label_)))"
      ],
      "execution_count": null,
      "outputs": [
        {
          "output_type": "stream",
          "name": "stdout",
          "text": [
            "Google | investirá | 6 | milhões | de | dólares | \n",
            "----\n",
            "Google - ORG - Companies, agencies, institutions, etc.\n"
          ]
        }
      ]
    },
    {
      "cell_type": "code",
      "metadata": {
        "id": "RzVAI0Z6KE3g",
        "colab": {
          "base_uri": "https://localhost:8080/"
        },
        "outputId": "1f23d051-7a24-4be8-cb9e-9debc418fbdc"
      },
      "source": [
        "doc4 = nlp(u'Esta é a primeira sentença. Sr. esta é a segunda sentença. Esta é a terceira. Você já entendeu né?')\n",
        "\n",
        "for sent in doc4.sents:\n",
        "    print(sent)"
      ],
      "execution_count": null,
      "outputs": [
        {
          "output_type": "stream",
          "name": "stdout",
          "text": [
            "Esta é a primeira sentença.\n",
            "Sr. esta é a segunda sentença.\n",
            "Esta é a terceira.\n",
            "Você já entendeu né?\n"
          ]
        }
      ]
    },
    {
      "cell_type": "code",
      "metadata": {
        "id": "uv6ta7C_7D2J",
        "colab": {
          "base_uri": "https://localhost:8080/"
        },
        "outputId": "ac191da4-1338-4dbf-d25e-becad9001e02"
      },
      "source": [
        "doc4[6]"
      ],
      "execution_count": null,
      "outputs": [
        {
          "output_type": "execute_result",
          "data": {
            "text/plain": [
              "Sr."
            ]
          },
          "metadata": {},
          "execution_count": 56
        }
      ]
    },
    {
      "cell_type": "code",
      "metadata": {
        "id": "5E6jPE6yh38K",
        "colab": {
          "base_uri": "https://localhost:8080/"
        },
        "outputId": "8611716f-ad44-4470-a6ce-5328b302aaa4"
      },
      "source": [
        "print(doc4[6])\n",
        "print(doc4[6].is_sent_start)"
      ],
      "execution_count": null,
      "outputs": [
        {
          "output_type": "stream",
          "name": "stdout",
          "text": [
            "Sr.\n",
            "True\n"
          ]
        }
      ]
    },
    {
      "cell_type": "code",
      "metadata": {
        "id": "GPqiHvM7h8Np",
        "colab": {
          "base_uri": "https://localhost:8080/"
        },
        "outputId": "0b85cadd-4e1b-4317-ea70-3542ed30b004"
      },
      "source": [
        "stop = nlp.Defaults.stop_words\n",
        "print(nlp.Defaults.stop_words)"
      ],
      "execution_count": null,
      "outputs": [
        {
          "output_type": "stream",
          "name": "stdout",
          "text": [
            "{'primeira', 'todos', 'dessa', 'aquela', 'apoio', 'nada', 'disso', 'apoia', 'quatro', 'des', 'nuns', 'grandes', 'portanto', 'corrente', 'vez', 'dizer', 'doze', 'põem', 'porquê', 'fostes', 'questão', 'uns', 'estará', 'estes', 'máximo', 'podem', 'por', 'que', 'estão', 'algo', 'sistema', 'mês', 'irá', 'ontem', 'assim', 'sexta', 'boa', 'aqueles', 'nenhuma', 'algumas', 'pois', 'teu', 'adeus', 'elas', 'vens', 'tipo', 'estas', 'apenas', 'todo', 'ora', 'comprida', 'muitos', 'maioria', 'ademais', 'dois', 'tudo', 'quarta', 'pôde', 'último', 'nossas', 'meses', 'cada', 'estive', 'numa', 'pontos', 'quarto', 'tuas', 'essa', 'ali', 'seis', 'atrás', 'entre', 'muito', 'tentar', 'cento', 'nas', 'certeza', 'esse', 'suas', 'dar', 'dezanove', 'quieta', 'minha', 'qualquer', 'vocês', 'estava', 'ser', 'na', 'umas', 'somos', 'menor', 'querem', 'ambas', 'faz', 'esteve', 'quinta', 'novo', 'isso', 'sabe', 'partir', 'posso', 'sem', 'cedo', 'vem', 'exemplo', 'estar', 'você', 'for', 'isto', 'sua', 'aquilo', 'relação', 'com', 'aquele', 'não', 'daquele', 'sou', 'vós', 'alguns', 'ela', 'falta', 'fez', 'antes', 'é', 'terceira', 'nossos', 'em', 'tentaram', 'bom', 'têm', 'vossa', 'apontar', 'de', 'tive', 'tal', 'vezes', 'ainda', 'catorze', 'nossa', 'números', 'quinze', 'através', 'quer', 'segunda', 'nove', 'devem', 'nosso', 'porque', 'treze', 'caminho', 'faço', 'tão', 'momento', 'parece', 'dá', 'dezasseis', 'estás', 'do', 'obrigada', 'tivemos', 'sobre', 'vossos', 'tua', 'meio', 'tem', 'maiorias', 'veja', 'nesse', 'favor', 'diz', 'tens', 'então', 'pouco', 'só', 'eu', 'terceiro', 'debaixo', 'tivestes', 'usa', 'maior', 'vosso', 'contra', 'no', 'as', 'essas', 'este', 'fim', 'área', 'sétima', 'eventual', 'novas', 'os', 'lado', 'logo', 'todas', 'me', 'meus', 'sétimo', 'geral', 'vais', 'sob', 'quais', 'saber', 'tentei', 'naquela', 'mas', 'aos', 'fazia', 'foram', 'pouca', 'se', 'fui', 'tiveste', 'posição', 'vão', 'dezassete', 'usar', 'vinda', 'demais', 'ligado', 'porquanto', 'tempo', 'direita', 'lugar', 'dos', 'bastante', 'tarde', 'vindo', 'talvez', 'fazeis', 'minhas', 'outra', 'povo', 'coisa', 'mal', 'grande', 'das', 'quê', 'contudo', 'também', 'comprido', 'já', 'temos', 'lhe', 'uma', 'vários', 'nessa', 'desse', 'qual', 'tiveram', 'local', 'próximo', 'aqui', 'após', 'conhecida', 'seu', 'nós', 'grupo', 'foi', 'ou', 'custa', 'pode', 'aquelas', 'esta', 'tente', 'próprio', 'está', 'fazes', 'desta', 'dizem', 'fazer', 'sempre', 'tanta', 'estivestes', 'final', 'pegar', 'seria', 'estado', 'ver', 'esses', 'ter', 'meu', 'ele', 'quieto', 'somente', 'possivelmente', 'fazem', 'bem', 'oito', 'teus', 'nesta', 'um', 'era', 'tendes', 'quem', 'perto', 'possível', 'seus', 'outras', 'eles', 'fomos', 'baixo', 'estiveram', 'próxima', 'vêm', 'ponto', 'dentro', 'fará', 'menos', 'deverá', 'podia', 'onde', 'inicio', 'deve', 'onze', 'fora', 'mais', 'poderá', 'toda', 'vinte', 'sei', 'sois', 'quero', 'foste', 'tenho', 'número', 'conselho', 'ambos', 'breve', 'inclusive', 'lá', 'sexto', 'cinco', 'vossas', 'estou', 'como', 'tais', 'cima', 'enquanto', 'porém', 'vos', 'dez', 'agora', 'dezoito', 'tanto', 'forma', 'à', 'para', 'mil', 'valor', 'teve', 'pelos', 'pelo', 'acerca', 'naquele', 'estivemos', 'poder', 'duas', 'desde', 'oitava', 'primeiro', 'sim', 'puderam', 'depois', 'te', 'és', 'longe', 'novos', 'mesmo', 'cá', 'ir', 'são', 'conhecido', 'outros', 'nunca', 'embora', 'quando', 'pela', 'vai', 'fazemos', 'num', 'põe', 'nova', 'tu', 'da', 'cujo', 'diante', 'ao', 'nível', 'até', 'iniciar', 'deste', 'nos', 'parte', 'dão', 'quanto', 'certamente', 'sete', 'obrigado', 'oitavo', 'às', 'cuja', 'zero', 'pelas', 'nem', 'estiveste', 'quinto', 'neste', 'segundo', 'três', 'além', 'aí', 'daquela'}\n"
          ]
        }
      ]
    },
    {
      "cell_type": "code",
      "metadata": {
        "id": "AWKYCRDojNR2",
        "colab": {
          "base_uri": "https://localhost:8080/"
        },
        "outputId": "f3b2df9b-b140-471b-b6e8-38a0e23af8cd"
      },
      "source": [
        "len(nlp.Defaults.stop_words)"
      ],
      "execution_count": null,
      "outputs": [
        {
          "output_type": "execute_result",
          "data": {
            "text/plain": [
              "413"
            ]
          },
          "metadata": {},
          "execution_count": 59
        }
      ]
    },
    {
      "cell_type": "code",
      "metadata": {
        "id": "u6UGby2DjU64",
        "colab": {
          "base_uri": "https://localhost:8080/"
        },
        "outputId": "24ac99d8-c2a6-415d-a130-a7d8bbc82c31"
      },
      "source": [
        "import nltk\n",
        "nltk.download('stopwords')\n",
        "\n",
        "stopwords = nltk.corpus.stopwords.words('portuguese')\n",
        "len(stopwords)"
      ],
      "execution_count": null,
      "outputs": [
        {
          "output_type": "stream",
          "name": "stdout",
          "text": [
            "[nltk_data] Downloading package stopwords to /root/nltk_data...\n",
            "[nltk_data]   Unzipping corpora/stopwords.zip.\n"
          ]
        },
        {
          "output_type": "execute_result",
          "data": {
            "text/plain": [
              "204"
            ]
          },
          "metadata": {},
          "execution_count": 60
        }
      ]
    },
    {
      "cell_type": "code",
      "metadata": {
        "id": "84IyYSblRj2g",
        "colab": {
          "base_uri": "https://localhost:8080/"
        },
        "outputId": "fb1ca618-f0a5-4186-906c-306cd538416a"
      },
      "source": [
        "stops_spacy_nltk = list(set(nlp.Defaults.stop_words).union(set(nltk.corpus.stopwords.words('portuguese'))))\n",
        "stops_spacy_nltk\n",
        "len(stops_spacy_nltk)"
      ],
      "execution_count": null,
      "outputs": [
        {
          "output_type": "execute_result",
          "data": {
            "text/plain": [
              "499"
            ]
          },
          "metadata": {},
          "execution_count": 61
        }
      ]
    },
    {
      "cell_type": "code",
      "metadata": {
        "id": "XJtqP-KFjgem",
        "colab": {
          "base_uri": "https://localhost:8080/"
        },
        "outputId": "020828ce-dd9f-43f6-cdf5-58fda80fd34f"
      },
      "source": [
        "#len(list(set(nlp.Defaults.stop_words) - set(stopwords)))\n",
        "list(set(nlp.Defaults.stop_words) - set(stopwords))[:10]"
      ],
      "execution_count": null,
      "outputs": [
        {
          "output_type": "execute_result",
          "data": {
            "text/plain": [
              "['inicio',\n",
              " 'deve',\n",
              " 'onze',\n",
              " 'vinda',\n",
              " 'demais',\n",
              " 'primeira',\n",
              " 'ligado',\n",
              " 'todos',\n",
              " 'poderá',\n",
              " 'dessa']"
            ]
          },
          "metadata": {},
          "execution_count": 62
        }
      ]
    },
    {
      "cell_type": "code",
      "metadata": {
        "id": "euRE5EWEi7aI"
      },
      "source": [
        "doc = nlp(u'pegar')\n",
        "token = doc[0]"
      ],
      "execution_count": null,
      "outputs": []
    },
    {
      "cell_type": "markdown",
      "metadata": {
        "id": "cBTzb_DGVAii"
      },
      "source": [
        "#**Modelo de classificação**\n",
        "---\n",
        "\n",
        "<br>\n",
        "Vamos \"produtizar\" nosso melhor modelo?"
      ]
    },
    {
      "cell_type": "code",
      "metadata": {
        "id": "OGvptdafSbj0",
        "colab": {
          "base_uri": "https://localhost:8080/"
        },
        "outputId": "e28c367a-cd91-45d0-b75c-158c94b1975d"
      },
      "source": [
        "import pandas as pd\n",
        "from sklearn.feature_extraction.text import TfidfVectorizer\n",
        "from sklearn.tree import DecisionTreeClassifier\n",
        "\n",
        "# Carrega o dataframe\n",
        "df = pd.DataFrame({\n",
        "    'text': [\n",
        "      'Sobre MBA ? Eu gostei muito do MBA da FIAP',\n",
        "      'O MBA da FIAP pode melhorar, não gostei muito'\n",
        "    ],\n",
        "    'class': [\n",
        "        'positivo',\n",
        "        'negativo'\n",
        "    ]})\n",
        "\n",
        "# Vetoriza os documentos (cria um vetor treinado no contexto para o modelo)\n",
        "vect = TfidfVectorizer() \n",
        "vect.fit(df.text)\n",
        "tfidf_vect = vect.transform(df.text)\n",
        "\n",
        "print(pd.DataFrame(tfidf_vect.A, columns=vect.get_feature_names()).to_string())\n",
        "\n",
        "# Treina um modelo com os textos vetorizados\n",
        "tree = DecisionTreeClassifier()\n",
        "tree.fit(tfidf_vect, df['class'])\n",
        "\n",
        "# Valida as predições do modelo\n",
        "print('\\nD Tree: ', tree.score(tfidf_vect, df['class'])) # retorna a acurracy - precisão do modelo"
      ],
      "execution_count": null,
      "outputs": [
        {
          "output_type": "stream",
          "name": "stdout",
          "text": [
            "         da        do        eu      fiap    gostei       mba  melhorar     muito       não      pode     sobre\n",
            "0  0.267970  0.376623  0.376623  0.267970  0.267970  0.535941  0.000000  0.267970  0.000000  0.000000  0.376623\n",
            "1  0.302531  0.000000  0.000000  0.302531  0.302531  0.302531  0.425196  0.302531  0.425196  0.425196  0.000000\n",
            "\n",
            "D Tree:  1.0\n"
          ]
        }
      ]
    },
    {
      "cell_type": "code",
      "metadata": {
        "id": "gR2ko_vNVCIO",
        "colab": {
          "base_uri": "https://localhost:8080/"
        },
        "outputId": "268db34e-040a-4eed-a752-40b7c4966209"
      },
      "source": [
        "# Vetoriza um novo documento\n",
        "vetor = vect.transform(['o curso pode melhorar'])\n",
        "\n",
        "# Faz a previsão com base no modelo previamente treinado\n",
        "print('D Tree: ', tree.predict(vetor))"
      ],
      "execution_count": null,
      "outputs": [
        {
          "output_type": "stream",
          "name": "stdout",
          "text": [
            "D Tree:  ['negativo']\n"
          ]
        }
      ]
    },
    {
      "cell_type": "markdown",
      "metadata": {
        "id": "dd0foInAVI4Q"
      },
      "source": [
        "Salvando nosso vetor treinado e nosso modelo de classificação."
      ]
    },
    {
      "cell_type": "code",
      "metadata": {
        "id": "onRgUHxVVCGf"
      },
      "source": [
        "import pickle\n",
        "\n",
        "pickle.dump(vect, open('meu_vetor.pkl', 'wb'))\n",
        "pickle.dump(tree, open('minha_arvore.pkl', 'wb'))"
      ],
      "execution_count": null,
      "outputs": []
    },
    {
      "cell_type": "code",
      "metadata": {
        "id": "x3AsyvcTVCEf",
        "colab": {
          "base_uri": "https://localhost:8080/"
        },
        "outputId": "dda91311-e2bb-4150-93a0-f5a25507bb25"
      },
      "source": [
        "!ls -la"
      ],
      "execution_count": null,
      "outputs": [
        {
          "output_type": "stream",
          "name": "stdout",
          "text": [
            "total 712\n",
            "drwxr-xr-x 1 root root   4096 Nov 10 12:37 .\n",
            "drwxr-xr-x 1 root root   4096 Nov 10 12:28 ..\n",
            "drwxr-xr-x 4 root root   4096 Nov  1 13:34 .config\n",
            "-rw-r--r-- 1 root root   1775 Nov 10 12:37 meu_vetor.pkl\n",
            "-rw-r--r-- 1 root root   1555 Nov 10 12:37 minha_arvore.pkl\n",
            "drwxr-xr-x 1 root root   4096 Nov  1 13:35 sample_data\n",
            "-rw-r--r-- 1 root root 701497 Nov 10 12:30 tagger.pkl\n"
          ]
        }
      ]
    },
    {
      "cell_type": "code",
      "metadata": {
        "id": "wCCCV1DzVCDA"
      },
      "source": [
        "import pickle\n",
        "\n",
        "bla_vetor = pickle.load(open('meu_vetor.pkl', 'rb'))\n",
        "bla_modelo = pickle.load(open('minha_arvore.pkl', 'rb'))"
      ],
      "execution_count": null,
      "outputs": []
    },
    {
      "cell_type": "code",
      "metadata": {
        "id": "nhLuIBNWVB-k",
        "colab": {
          "base_uri": "https://localhost:8080/"
        },
        "outputId": "531f6b82-f821-46c7-88b6-b310ed94f31b"
      },
      "source": [
        "bla_vetor"
      ],
      "execution_count": null,
      "outputs": [
        {
          "output_type": "execute_result",
          "data": {
            "text/plain": [
              "TfidfVectorizer(analyzer='word', binary=False, decode_error='strict',\n",
              "                dtype=<class 'numpy.float64'>, encoding='utf-8',\n",
              "                input='content', lowercase=True, max_df=1.0, max_features=None,\n",
              "                min_df=1, ngram_range=(1, 1), norm='l2', preprocessor=None,\n",
              "                smooth_idf=True, stop_words=None, strip_accents=None,\n",
              "                sublinear_tf=False, token_pattern='(?u)\\\\b\\\\w\\\\w+\\\\b',\n",
              "                tokenizer=None, use_idf=True, vocabulary=None)"
            ]
          },
          "metadata": {},
          "execution_count": 69
        }
      ]
    },
    {
      "cell_type": "code",
      "metadata": {
        "id": "yvU1n9vfVB8j",
        "colab": {
          "base_uri": "https://localhost:8080/"
        },
        "outputId": "130dd072-9066-4e34-d7ef-78aa63614132"
      },
      "source": [
        "bla_modelo"
      ],
      "execution_count": null,
      "outputs": [
        {
          "output_type": "execute_result",
          "data": {
            "text/plain": [
              "DecisionTreeClassifier(ccp_alpha=0.0, class_weight=None, criterion='gini',\n",
              "                       max_depth=None, max_features=None, max_leaf_nodes=None,\n",
              "                       min_impurity_decrease=0.0, min_impurity_split=None,\n",
              "                       min_samples_leaf=1, min_samples_split=2,\n",
              "                       min_weight_fraction_leaf=0.0, presort='deprecated',\n",
              "                       random_state=None, splitter='best')"
            ]
          },
          "metadata": {},
          "execution_count": 70
        }
      ]
    },
    {
      "cell_type": "code",
      "metadata": {
        "id": "wNb8e1KmVB5u",
        "colab": {
          "base_uri": "https://localhost:8080/"
        },
        "outputId": "5a4125a6-fc62-4964-83d3-b45262631bad"
      },
      "source": [
        "# Vetoriza um novo documento com o vetor carregado\n",
        "novo_vetor = bla_vetor.transform(['o curso pode melhorar'])\n",
        "\n",
        "print(pd.DataFrame(novo_vetor.A, columns=bla_vetor.get_feature_names()).to_string())\n",
        "\n",
        "# Faz a previsão com base no modelo carregado\n",
        "print('D Tree: ', bla_modelo.predict(novo_vetor))"
      ],
      "execution_count": null,
      "outputs": [
        {
          "output_type": "stream",
          "name": "stdout",
          "text": [
            "    da   do   eu  fiap  gostei  mba  melhorar  muito  não      pode  sobre\n",
            "0  0.0  0.0  0.0   0.0     0.0  0.0  0.707107    0.0  0.0  0.707107    0.0\n",
            "D Tree:  ['negativo']\n"
          ]
        }
      ]
    },
    {
      "cell_type": "markdown",
      "metadata": {
        "id": "_twlhPF7VTkd"
      },
      "source": [
        "Salvando no Google Drive"
      ]
    },
    {
      "cell_type": "code",
      "metadata": {
        "id": "na1yPJjrSbat",
        "colab": {
          "base_uri": "https://localhost:8080/"
        },
        "outputId": "c44206f6-2ccb-4c68-e90d-6b54de982d39"
      },
      "source": [
        "from google.colab import drive\n",
        "drive.mount('/content/gdrive', force_remount=True)\n",
        "\n",
        "# mostra a estrutura de pastas do google drive montado no colab\n",
        "!ls -la\n",
        "!ls -la /content/gdrive/MyDrive/FIAP/NLP/modelos"
      ],
      "execution_count": null,
      "outputs": [
        {
          "output_type": "stream",
          "name": "stdout",
          "text": [
            "Mounted at /content/gdrive\n",
            "total 716\n",
            "drwxr-xr-x 1 root root   4096 Nov 10 12:38 .\n",
            "drwxr-xr-x 1 root root   4096 Nov 10 12:28 ..\n",
            "drwxr-xr-x 4 root root   4096 Nov  1 13:34 .config\n",
            "drwx------ 5 root root   4096 Nov 10 12:38 gdrive\n",
            "-rw-r--r-- 1 root root   1775 Nov 10 12:37 meu_vetor.pkl\n",
            "-rw-r--r-- 1 root root   1555 Nov 10 12:37 minha_arvore.pkl\n",
            "drwxr-xr-x 1 root root   4096 Nov  1 13:35 sample_data\n",
            "-rw-r--r-- 1 root root 701497 Nov 10 12:30 tagger.pkl\n",
            "total 4\n",
            "-rw------- 1 root root 1775 May 11  2021 meu_vetorizador.pkl\n",
            "-rw------- 1 root root 1555 May 11  2021 minha_arvore.pkl\n"
          ]
        }
      ]
    },
    {
      "cell_type": "code",
      "metadata": {
        "id": "ozZhEoPWSbX8"
      },
      "source": [
        "import pickle\n",
        "\n",
        "pickle.dump(tree, open('/content/gdrive/MyDrive/FIAP/NLP/modelos/minha_arvore.pkl', 'wb'))\n",
        "pickle.dump(vect, open('/content/gdrive/MyDrive/FIAP/NLP/modelos/meu_vetorizador.pkl', 'wb'))"
      ],
      "execution_count": null,
      "outputs": []
    },
    {
      "cell_type": "code",
      "metadata": {
        "id": "T3FxYxPaSMCH",
        "colab": {
          "base_uri": "https://localhost:8080/"
        },
        "outputId": "1866ffb3-1b0a-4094-9762-2c649f188b7a"
      },
      "source": [
        "!ls -la /content/gdrive/MyDrive/FIAP/NLP/modelos"
      ],
      "execution_count": null,
      "outputs": [
        {
          "output_type": "stream",
          "name": "stdout",
          "text": [
            "total 4\n",
            "-rw------- 1 root root 1775 Nov 10 12:38 meu_vetorizador.pkl\n",
            "-rw------- 1 root root 1555 Nov 10 12:38 minha_arvore.pkl\n"
          ]
        }
      ]
    },
    {
      "cell_type": "markdown",
      "metadata": {
        "id": "pGS2QpmIVcUr"
      },
      "source": [
        "Reinicie o colab... <control>"
      ]
    },
    {
      "cell_type": "code",
      "metadata": {
        "id": "Rd-z1RgBVZZL",
        "colab": {
          "base_uri": "https://localhost:8080/"
        },
        "outputId": "e84cb022-ce73-45e9-d296-e61f05159c72"
      },
      "source": [
        "from google.colab import drive\n",
        "drive.mount('/content/gdrive', force_remount=True)"
      ],
      "execution_count": null,
      "outputs": [
        {
          "output_type": "stream",
          "name": "stdout",
          "text": [
            "Mounted at /content/gdrive\n"
          ]
        }
      ]
    },
    {
      "cell_type": "code",
      "metadata": {
        "id": "-Q90ce-pVZVg"
      },
      "source": [
        "import pickle\n",
        "\n",
        "minha_arvore = pickle.load(open('/content/gdrive/MyDrive/FIAP/NLP/modelos/minha_arvore.pkl', 'rb'))\n",
        "meu_vetorizador = pickle.load(open('/content/gdrive/MyDrive/FIAP/NLP/modelos/meu_vetorizador.pkl', 'rb'))"
      ],
      "execution_count": null,
      "outputs": []
    },
    {
      "cell_type": "code",
      "metadata": {
        "id": "cYGSne5hVZRz",
        "colab": {
          "base_uri": "https://localhost:8080/"
        },
        "outputId": "ab13282a-9255-4e4c-e872-c68a87e5a782"
      },
      "source": [
        "# Vetoriza um novo documento com o vetor carregado\n",
        "novo_vetor = meu_vetorizador.transform(['o curso pode melhorar'])\n",
        "\n",
        "# Faz a previsão com base no modelo carregado\n",
        "print('D Tree: ', minha_arvore.predict(novo_vetor))"
      ],
      "execution_count": null,
      "outputs": [
        {
          "output_type": "stream",
          "name": "stdout",
          "text": [
            "D Tree:  ['negativo']\n"
          ]
        }
      ]
    },
    {
      "cell_type": "markdown",
      "metadata": {
        "id": "QeL9MBwPVi0r"
      },
      "source": [
        "Escorando os documentos de um novo dataframe com as predições"
      ]
    },
    {
      "cell_type": "code",
      "metadata": {
        "colab": {
          "base_uri": "https://localhost:8080/",
          "height": 142
        },
        "id": "zwDLrvb0VYx_",
        "outputId": "bf1da4dc-87e5-4ffb-c508-a8669ba694ab"
      },
      "source": [
        "import pandas as pd\n",
        "\n",
        "# Dataframe sem classificação\n",
        "df_novo = pd.DataFrame({\n",
        "    'texto': [\n",
        "      'Sobre MBA ? Eu gostei muito do MBA da FIAP',\n",
        "      'O MBA da FIAP pode melhorar, não gostei muito',\n",
        "      'O curso pode melhorar'\n",
        "    ]})\n",
        "\n",
        "df_novo"
      ],
      "execution_count": null,
      "outputs": [
        {
          "output_type": "execute_result",
          "data": {
            "text/html": [
              "<div>\n",
              "<style scoped>\n",
              "    .dataframe tbody tr th:only-of-type {\n",
              "        vertical-align: middle;\n",
              "    }\n",
              "\n",
              "    .dataframe tbody tr th {\n",
              "        vertical-align: top;\n",
              "    }\n",
              "\n",
              "    .dataframe thead th {\n",
              "        text-align: right;\n",
              "    }\n",
              "</style>\n",
              "<table border=\"1\" class=\"dataframe\">\n",
              "  <thead>\n",
              "    <tr style=\"text-align: right;\">\n",
              "      <th></th>\n",
              "      <th>texto</th>\n",
              "    </tr>\n",
              "  </thead>\n",
              "  <tbody>\n",
              "    <tr>\n",
              "      <th>0</th>\n",
              "      <td>Sobre MBA ? Eu gostei muito do MBA da FIAP</td>\n",
              "    </tr>\n",
              "    <tr>\n",
              "      <th>1</th>\n",
              "      <td>O MBA da FIAP pode melhorar, não gostei muito</td>\n",
              "    </tr>\n",
              "    <tr>\n",
              "      <th>2</th>\n",
              "      <td>O curso pode melhorar</td>\n",
              "    </tr>\n",
              "  </tbody>\n",
              "</table>\n",
              "</div>"
            ],
            "text/plain": [
              "                                           texto\n",
              "0     Sobre MBA ? Eu gostei muito do MBA da FIAP\n",
              "1  O MBA da FIAP pode melhorar, não gostei muito\n",
              "2                          O curso pode melhorar"
            ]
          },
          "metadata": {},
          "execution_count": 78
        }
      ]
    },
    {
      "cell_type": "code",
      "metadata": {
        "id": "uZGpHzLzVYvn",
        "colab": {
          "base_uri": "https://localhost:8080/"
        },
        "outputId": "9d31d0f5-831e-4df7-ec09-c343fa0b4119"
      },
      "source": [
        "texto_vetorizado = meu_vetorizador.transform(df_novo.texto)\n",
        "\n",
        "print(pd.DataFrame(texto_vetorizado.A, columns=meu_vetorizador.get_feature_names()).to_string())"
      ],
      "execution_count": null,
      "outputs": [
        {
          "output_type": "stream",
          "name": "stdout",
          "text": [
            "         da        do        eu      fiap    gostei       mba  melhorar     muito       não      pode     sobre\n",
            "0  0.267970  0.376623  0.376623  0.267970  0.267970  0.535941  0.000000  0.267970  0.000000  0.000000  0.376623\n",
            "1  0.302531  0.000000  0.000000  0.302531  0.302531  0.302531  0.425196  0.302531  0.425196  0.425196  0.000000\n",
            "2  0.000000  0.000000  0.000000  0.000000  0.000000  0.000000  0.707107  0.000000  0.000000  0.707107  0.000000\n"
          ]
        }
      ]
    },
    {
      "cell_type": "code",
      "metadata": {
        "id": "zAHrcXcgVm28"
      },
      "source": [
        "df_novo['class_predict'] = minha_arvore.predict(texto_vetorizado)"
      ],
      "execution_count": null,
      "outputs": []
    },
    {
      "cell_type": "code",
      "metadata": {
        "id": "AKynjMOTVm0x",
        "colab": {
          "base_uri": "https://localhost:8080/",
          "height": 142
        },
        "outputId": "e687978c-b87c-4c8e-a53e-a7e892d8c495"
      },
      "source": [
        "df_novo"
      ],
      "execution_count": null,
      "outputs": [
        {
          "output_type": "execute_result",
          "data": {
            "text/html": [
              "<div>\n",
              "<style scoped>\n",
              "    .dataframe tbody tr th:only-of-type {\n",
              "        vertical-align: middle;\n",
              "    }\n",
              "\n",
              "    .dataframe tbody tr th {\n",
              "        vertical-align: top;\n",
              "    }\n",
              "\n",
              "    .dataframe thead th {\n",
              "        text-align: right;\n",
              "    }\n",
              "</style>\n",
              "<table border=\"1\" class=\"dataframe\">\n",
              "  <thead>\n",
              "    <tr style=\"text-align: right;\">\n",
              "      <th></th>\n",
              "      <th>texto</th>\n",
              "      <th>class_predict</th>\n",
              "    </tr>\n",
              "  </thead>\n",
              "  <tbody>\n",
              "    <tr>\n",
              "      <th>0</th>\n",
              "      <td>Sobre MBA ? Eu gostei muito do MBA da FIAP</td>\n",
              "      <td>positivo</td>\n",
              "    </tr>\n",
              "    <tr>\n",
              "      <th>1</th>\n",
              "      <td>O MBA da FIAP pode melhorar, não gostei muito</td>\n",
              "      <td>negativo</td>\n",
              "    </tr>\n",
              "    <tr>\n",
              "      <th>2</th>\n",
              "      <td>O curso pode melhorar</td>\n",
              "      <td>negativo</td>\n",
              "    </tr>\n",
              "  </tbody>\n",
              "</table>\n",
              "</div>"
            ],
            "text/plain": [
              "                                           texto class_predict\n",
              "0     Sobre MBA ? Eu gostei muito do MBA da FIAP      positivo\n",
              "1  O MBA da FIAP pode melhorar, não gostei muito      negativo\n",
              "2                          O curso pode melhorar      negativo"
            ]
          },
          "metadata": {},
          "execution_count": 81
        }
      ]
    },
    {
      "cell_type": "markdown",
      "metadata": {
        "id": "OMpK0H06Vysa"
      },
      "source": [
        "### **Exercício 1**\n",
        "\n",
        "###Que tal fazer isso com seu melhor modelo classificador de produtos?\n",
        "\n",
        "- Crie um pipeline produtivo do seu melhor modelo até aqui."
      ]
    },
    {
      "cell_type": "code",
      "metadata": {
        "id": "WAQofki-VmyD"
      },
      "source": [
        "import pandas as pd\n",
        "\n",
        "df = pd.read_csv(\"https://dados-ml-pln.s3-sa-east-1.amazonaws.com/produtos.csv\", delimiter=\";\", encoding='utf-8')\n",
        "\n",
        "df.dropna(inplace=True)\n",
        "df[\"texto\"] = df['nome'] + \" \" + df['descricao']"
      ],
      "execution_count": null,
      "outputs": []
    },
    {
      "cell_type": "markdown",
      "metadata": {
        "id": "32luCbaKV4ko"
      },
      "source": [
        "#**Outros modelos de classificação**\n",
        "---\n",
        "<br>\n",
        "\n",
        "###O ***Scikit-Learn*** nos permite explorar mais modelos de classificação além da Árvore de Decisão (DecisionTreeClassifier), veja:\n",
        "<br>\n",
        "\n",
        "- Regressão Logistica (LogisticRegression)\n",
        "- Random Forest (RandomForestClassifier)\n",
        "- Naive Bayes (MultinomialNB e BernoulliNB)\n",
        "\n",
        "Entre outros..."
      ]
    },
    {
      "cell_type": "code",
      "metadata": {
        "id": "ZHJhQ4QwVmtD"
      },
      "source": [
        "# Modelos de Regressão\n",
        "from sklearn.linear_model import LogisticRegression\n",
        "\n",
        "# Random Forest (baseados em Ávores de Decisões)\n",
        "from sklearn.ensemble import RandomForestClassifier\n",
        "\n",
        "# Naive Bayes, bastante utilizado para classificar textos baseado na frequência das palavras independnetemente do contexto (classificação de SPAM)\n",
        "from sklearn.naive_bayes import MultinomialNB\n",
        "from sklearn.naive_bayes import BernoulliNB"
      ],
      "execution_count": null,
      "outputs": []
    },
    {
      "cell_type": "markdown",
      "metadata": {
        "id": "gdsbc8EqV_OP"
      },
      "source": [
        "https://scikit-learn.org/stable/modules/linear_model.html\n",
        "\n",
        "https://scikit-learn.org/stable/modules/naive_bayes.html\n",
        "\n",
        "https://scikit-learn.org/stable/modules/generated/sklearn.ensemble.RandomForestClassifier.html#sklearn.ensemble.RandomForestClassifier\n",
        "\n"
      ]
    },
    {
      "cell_type": "markdown",
      "metadata": {
        "id": "kRMIr0ReWCIE"
      },
      "source": [
        "Exemplo com Regressão Logística:"
      ]
    },
    {
      "cell_type": "code",
      "metadata": {
        "colab": {
          "base_uri": "https://localhost:8080/"
        },
        "id": "gcXVMEG_V6-t",
        "outputId": "9d80420d-289a-4621-ff47-88b519558230"
      },
      "source": [
        "import pandas as pd\n",
        "from sklearn.model_selection import train_test_split\n",
        "from sklearn.feature_extraction.text import CountVectorizer\n",
        "from sklearn.linear_model import LogisticRegression\n",
        "from sklearn.metrics import accuracy_score\n",
        "\n",
        "# carrega os dados\n",
        "df = pd.read_csv(\"https://dados-ml-pln.s3-sa-east-1.amazonaws.com/produtos.csv\", delimiter=\";\", encoding='utf-8')\n",
        "df.dropna(inplace=True)\n",
        "df[\"texto\"] = df['nome'] + \" \" + df['descricao']\n",
        "\n",
        "# divisão das amostras em treino e teste\n",
        "df_treino, df_teste = train_test_split(\n",
        "      df, \n",
        "      test_size = 0.3, \n",
        "      random_state = 42\n",
        "  )\n",
        "\n",
        "#df.shape\n",
        "#df_treino.shape\n",
        "#df_teste.shape\n",
        "\n",
        "## TREINAMENTO\n",
        "# vetorização do dataframe de treino\n",
        "vect = CountVectorizer(ngram_range=(1,1)) # vetorização por contagem de termos simples dos unigramas com stopwords\n",
        "vect.fit(df_treino.texto)\n",
        "text_vect_treino = vect.transform(df_treino.texto)\n",
        "\n",
        "# treinamento do modelo\n",
        "model = LogisticRegression(random_state=42)\n",
        "model.fit(text_vect_treino, df_treino.categoria)\n",
        "\n",
        "## VALIDAÇÃO\n",
        "# vetorização do dataframe de teste\n",
        "text_vect_teste = vect.transform(df_teste.texto)\n",
        "\n",
        "# escoragem da classificação na amostra de teste (textos vetorizados)\n",
        "y_predicao = model.predict(text_vect_teste)\n",
        "\n",
        "# mensuração do resultado pela acurácia\n",
        "y_teste = df_teste.categoria\n",
        "accuracy = accuracy_score(y_predicao, y_teste) # predito x classificação original\n",
        "print(accuracy)"
      ],
      "execution_count": null,
      "outputs": [
        {
          "output_type": "stream",
          "name": "stdout",
          "text": [
            "0.9805714285714285\n"
          ]
        }
      ]
    },
    {
      "cell_type": "markdown",
      "metadata": {
        "id": "l5lcBFbQD4ve"
      },
      "source": [
        "### **Exercício 2**\n",
        "\n",
        "Dado o dataset de produtos [1], descubra:\n",
        "- Treine deferentes modelos de classificação do pacote scikit-learn para classificar os produtos em suas categorias.\n",
        "- Experimente a lib SpaCy para remover as stop words e reduzir as palavras ao seu lema. Veja como essas alterações impactam o desempenho do classificador.\n",
        "- Compare a performance entre eles usando a métrica de acurácia.\n",
        "- Use randon_state igual a 42 para permitir a comparação com seus colegas, separando 30% para teste.\n",
        "\n",
        "\n",
        "[1] - https://dados-ml-pln.s3-sa-east-1.amazonaws.com/produtos.csv"
      ]
    },
    {
      "cell_type": "code",
      "metadata": {
        "id": "tY3PjYltDrbx"
      },
      "source": [
        "import pandas as pd\n",
        "\n",
        "df = pd.read_csv(\"https://dados-ml-pln.s3-sa-east-1.amazonaws.com/produtos.csv\", delimiter=\";\", encoding='utf-8')\n",
        "\n",
        "df.dropna(inplace=True)\n",
        "df[\"texto\"] = df['nome'] + \" \" + df['descricao']"
      ],
      "execution_count": null,
      "outputs": []
    },
    {
      "cell_type": "code",
      "metadata": {
        "id": "W-VnZKnqULdR"
      },
      "source": [
        ""
      ],
      "execution_count": null,
      "outputs": []
    },
    {
      "cell_type": "code",
      "metadata": {
        "id": "UEgtMR2Fiq-q"
      },
      "source": [
        ""
      ],
      "execution_count": null,
      "outputs": []
    },
    {
      "cell_type": "code",
      "metadata": {
        "id": "Ayq4fTtYiq3J"
      },
      "source": [
        ""
      ],
      "execution_count": null,
      "outputs": []
    },
    {
      "cell_type": "markdown",
      "metadata": {
        "id": "1ORAfF9QUMRh"
      },
      "source": [
        "# **SpaCy**\n",
        "\n",
        "---\n"
      ]
    },
    {
      "cell_type": "code",
      "metadata": {
        "id": "rnj4fXwvURfu"
      },
      "source": [
        "!pip install spacy\n",
        "!python -m spacy download pt"
      ],
      "execution_count": null,
      "outputs": []
    },
    {
      "cell_type": "code",
      "metadata": {
        "id": "O6Ih55KpUS2u"
      },
      "source": [
        "#!python -m spacy download en\n",
        "#!python -m spacy download en_core_web_lg\n",
        "#!python -m spacy download pt_core_news_sm"
      ],
      "execution_count": null,
      "outputs": []
    },
    {
      "cell_type": "markdown",
      "metadata": {
        "id": "IukkB7hUku9M"
      },
      "source": [
        "## Correspondência Baseada em Regras \n",
        "\n",
        "O spaCy oferece uma ferramenta de correspondência de regras chamada Matcher, que permite criar uma biblioteca de padrões de token e, em seguida, associar esses padrões a um objeto Doc para retornar uma lista de correspondências encontradas. Você pode combinar em qualquer parte do token, incluindo texto e anotações, e você pode adicionar vários padrões ao mesmo combinador."
      ]
    },
    {
      "cell_type": "code",
      "metadata": {
        "id": "uutHbv8UkGaT"
      },
      "source": [
        "import spacy\n",
        "nlp = spacy.load('pt')\n",
        "\n",
        "from spacy.matcher import Matcher\n",
        "matcher = Matcher(nlp.vocab)"
      ],
      "execution_count": null,
      "outputs": []
    },
    {
      "cell_type": "markdown",
      "metadata": {
        "id": "trlgtXz5lJ6J"
      },
      "source": [
        "Aqui matcher é um objeto que é emparelhado com o objeto Vocab atual. Podemos adicionar e remover matchers nomeados específicos para o matcher, conforme necessário."
      ]
    },
    {
      "cell_type": "markdown",
      "metadata": {
        "id": "ZiJM5rJ1loqQ"
      },
      "source": [
        "Podemos encontrar o termo \"guarda-chuva\" como uma palavra ou duas, com ou sem um hífen. Nesta seção, vamos desenvolver um matcher que encontre todos os três:"
      ]
    },
    {
      "cell_type": "code",
      "metadata": {
        "id": "iITO-2i-lBCH"
      },
      "source": [
        "pattern1 = [{'LOWER': 'guardachuva'}]\n",
        "pattern2 = [{'LOWER': 'guarda'}, {'LOWER': 'chuva'}]\n",
        "pattern3 = [{'LOWER': 'guarda'}, {'IS_PUNCT': True}, {'LOWER': 'chuva'}]\n",
        "\n",
        "matcher.add('GuardaChuva', None, pattern1, pattern2, pattern3)"
      ],
      "execution_count": null,
      "outputs": []
    },
    {
      "cell_type": "code",
      "metadata": {
        "id": "e5TSsvpsmDvV"
      },
      "source": [
        "doc = nlp('Hoje eu esqueci meu guardachuva. \\\n",
        "Vou ter que comprar um novo guarda - chuva. \\\n",
        "Quanto custa um guarda chuva?')\n",
        "\n",
        "found_matches = matcher(doc)\n",
        "print(found_matches)"
      ],
      "execution_count": null,
      "outputs": []
    },
    {
      "cell_type": "code",
      "metadata": {
        "id": "f3t8-Nw1fVFW"
      },
      "source": [
        "doc[4:5]\n",
        "doc[12:15]\n",
        "doc[19:21]"
      ],
      "execution_count": null,
      "outputs": []
    },
    {
      "cell_type": "code",
      "metadata": {
        "id": "TD4o3trJmflv"
      },
      "source": [
        "for match_id, start, end in found_matches:\n",
        "    string_id = nlp.vocab.strings[match_id]\n",
        "    span = doc[start:end]\n",
        "    print(match_id, string_id, start, end, span.text)"
      ],
      "execution_count": null,
      "outputs": []
    },
    {
      "cell_type": "markdown",
      "metadata": {
        "id": "Ts7j9EGOhK-q"
      },
      "source": [
        "É possível usar opções de POS Tag e o Lema dos termos como no exemplo abaixo:"
      ]
    },
    {
      "cell_type": "code",
      "metadata": {
        "id": "bT0aMgDWbpsT"
      },
      "source": [
        "matcher = Matcher(nlp.vocab)\n",
        "\n",
        "pattern = [{'POS': 'VERB'}]\n",
        "\n",
        "matcher.add('Personalida', None, pattern)"
      ],
      "execution_count": null,
      "outputs": []
    },
    {
      "cell_type": "code",
      "metadata": {
        "id": "KRyd7YOgcbug"
      },
      "source": [
        "doc = nlp('O presidente Barak Obama visitou o Brasil')\n",
        "\n",
        "found_matches = matcher(doc)\n",
        "print(found_matches)"
      ],
      "execution_count": null,
      "outputs": []
    },
    {
      "cell_type": "code",
      "metadata": {
        "id": "TLD9iHbmmUN0"
      },
      "source": [
        "doc[4:5]"
      ],
      "execution_count": null,
      "outputs": []
    },
    {
      "cell_type": "markdown",
      "metadata": {
        "id": "Mf2xl7j3TEu7"
      },
      "source": [
        "Outro exemplo combinando regras"
      ]
    },
    {
      "cell_type": "code",
      "metadata": {
        "id": "GK_AJaJaTC9a"
      },
      "source": [
        "matcher = Matcher(nlp.vocab)\n",
        "\n",
        "pattern = [{'TEXT': 'andar', 'POS': 'NOUN'}]\n",
        "\n",
        "matcher.add('Regra 1', None, pattern)"
      ],
      "execution_count": null,
      "outputs": []
    },
    {
      "cell_type": "code",
      "metadata": {
        "id": "Ulaw8TyvTC7v"
      },
      "source": [
        "doc = nlp('Vamos andar até a esquina e depois subir para o terceiro andar do prédio.')\n",
        "\n",
        "found_matches = matcher(doc)\n",
        "print(found_matches)"
      ],
      "execution_count": null,
      "outputs": []
    },
    {
      "cell_type": "code",
      "metadata": {
        "id": "lY1zGqlPTC32"
      },
      "source": [
        "[(token.text, token.orth_, token.pos_, token.dep_, spacy.explain(token.pos_)) for token in doc]"
      ],
      "execution_count": null,
      "outputs": []
    },
    {
      "cell_type": "markdown",
      "metadata": {
        "id": "t2qY-3uTnFWA"
      },
      "source": [
        "Os seguintes quantificadores podem ser passados para a chave `'OP'`:\n",
        "\n",
        "<table><tr><th>OP</th><th>Descrição</th></tr>\n",
        "\n",
        "<tr ><td><span >\\!</span></td><td>Nega o padrão, exigindo que ele corresponda exatamente 0 vezes</td></tr>\n",
        "<tr ><td><span >?</span></td><td>Torna o padrão opcional, permitindo que ele corresponda 0 ou 1 vezes</td></tr>\n",
        "<tr ><td><span >\\+</span></td><td>Exige que o padrão corresponda a uma ou mais vezes</td></tr>\n",
        "<tr ><td><span >\\*</span></td><td>Permite que o padrão corresponda a zero ou mais vezes</td></tr>\n",
        "</table>\n",
        "\n",
        "**Outros atributos de token**\n",
        "\n",
        "<table><tr><th>Atributo</th><th>Descrição</th></tr>\n",
        "\n",
        "<tr ><td><span >`ORTH`</span></td><td>O texto exato do token</td></tr>\n",
        "<tr ><td><span >`LOWER`</span></td><td>O texto em caixa baixa</td></tr>\n",
        "<tr ><td><span >`LENGTH`</span></td><td>O tamanho do texto do token</td></tr>\n",
        "<tr ><td><span >`IS_ALPHA`, `IS_ASCII`, `IS_DIGIT`</span></td><td>O texto do token consiste de alfanuméricos, ASCII, digitos</td></tr>\n",
        "<tr ><td><span >`IS_LOWER`, `IS_UPPER`, `IS_TITLE`</span></td><td>O texto do toen esta em  lowercase, uppercase, titlecase</td></tr>\n",
        "<tr ><td><span >`IS_PUNCT`, `IS_SPACE`, `IS_STOP`</span></td><td>Token é puntuação, espaço, stop-word</td></tr>\n",
        "<tr ><td><span >`LIKE_NUM`, `LIKE_URL`, `LIKE_EMAIL`</span></td><td>Texto do token se parece um numero, URL, email</td></tr>\n",
        "<tr ><td><span >`POS`, `TAG`, `DEP`, `LEMMA`, `SHAPE`</span></td><td>O token em sua representação de POS Tag, dependência, </td></tr>\n",
        "<tr ><td><span >`ENT_TYPE`</span></td><td>O tipo de entidade do token</td></tr>\n",
        "\n",
        "</table>\n",
        "\n",
        "\n",
        "Para saber mais sobre esta função da lib SpaCy: \n",
        "\n",
        "https://spacy.io/api/matcher\n",
        "\n",
        "https://spacy.io/usage/rule-based-matching\n",
        "\n",
        "https://spacy.io/usage/linguistic-features#section-rule-based-matching"
      ]
    }
  ]
}